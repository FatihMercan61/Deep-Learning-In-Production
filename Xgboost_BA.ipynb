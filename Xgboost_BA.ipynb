{
  "cells": [
    {
      "cell_type": "markdown",
      "metadata": {
        "id": "view-in-github",
        "colab_type": "text"
      },
      "source": [
        "<a href=\"https://colab.research.google.com/github/FatihMercan61/Deep-Learning-In-Production/blob/master/Xgboost_BA.ipynb\" target=\"_parent\"><img src=\"https://colab.research.google.com/assets/colab-badge.svg\" alt=\"Open In Colab\"/></a>"
      ]
    },
    {
      "cell_type": "code",
      "execution_count": null,
      "metadata": {
        "colab": {
          "base_uri": "https://localhost:8080/"
        },
        "id": "0YXLZnEz3zId",
        "outputId": "9b18570e-1e68-4258-ff82-a39e4fe138e8"
      },
      "outputs": [
        {
          "output_type": "stream",
          "name": "stdout",
          "text": [
            "Mounted at /content/drive\n"
          ]
        }
      ],
      "source": [
        "# verbindung zu drive herstellen\n",
        "from google.colab import drive\n",
        "drive.mount(\"/content/drive\")"
      ]
    },
    {
      "cell_type": "code",
      "execution_count": null,
      "metadata": {
        "id": "c3OADBtq65Z2"
      },
      "outputs": [],
      "source": [
        "import pandas as pd\n",
        "df = pd.read_csv(\"/content/drive/MyDrive/Data/industrie_data.csv\")"
      ]
    },
    {
      "cell_type": "markdown",
      "metadata": {
        "id": "pL_efop5PU1J"
      },
      "source": [
        "# Ausführen"
      ]
    },
    {
      "cell_type": "code",
      "execution_count": null,
      "metadata": {
        "colab": {
          "base_uri": "https://localhost:8080/"
        },
        "id": "CBiHPAg7leQu",
        "outputId": "c75cfb9f-a292-4ff0-f472-abfa846732e3"
      },
      "outputs": [
        {
          "output_type": "stream",
          "name": "stdout",
          "text": [
            "Looking in indexes: https://pypi.org/simple, https://us-python.pkg.dev/colab-wheels/public/simple/\n",
            "Requirement already satisfied: xgboost in /usr/local/lib/python3.7/dist-packages (0.90)\n",
            "Requirement already satisfied: numpy in /usr/local/lib/python3.7/dist-packages (from xgboost) (1.21.6)\n",
            "Requirement already satisfied: scipy in /usr/local/lib/python3.7/dist-packages (from xgboost) (1.7.3)\n"
          ]
        }
      ],
      "source": [
        "!pip install xgboost"
      ]
    },
    {
      "cell_type": "code",
      "execution_count": null,
      "metadata": {
        "colab": {
          "base_uri": "https://localhost:8080/"
        },
        "id": "nQKv_IdQT6QX",
        "outputId": "43f71ee0-b5e2-4fde-aca7-262554dc2c80"
      },
      "outputs": [
        {
          "output_type": "stream",
          "name": "stdout",
          "text": [
            "Looking in indexes: https://pypi.org/simple, https://us-python.pkg.dev/colab-wheels/public/simple/\n",
            "Collecting optuna\n",
            "  Downloading optuna-3.0.3-py3-none-any.whl (348 kB)\n",
            "\u001b[K     |████████████████████████████████| 348 kB 12.8 MB/s \n",
            "\u001b[?25hCollecting cmaes>=0.8.2\n",
            "  Downloading cmaes-0.9.0-py3-none-any.whl (23 kB)\n",
            "Requirement already satisfied: numpy in /usr/local/lib/python3.7/dist-packages (from optuna) (1.21.6)\n",
            "Requirement already satisfied: PyYAML in /usr/local/lib/python3.7/dist-packages (from optuna) (6.0)\n",
            "Requirement already satisfied: scipy<1.9.0,>=1.7.0 in /usr/local/lib/python3.7/dist-packages (from optuna) (1.7.3)\n",
            "Requirement already satisfied: importlib-metadata<5.0.0 in /usr/local/lib/python3.7/dist-packages (from optuna) (4.13.0)\n",
            "Requirement already satisfied: sqlalchemy>=1.3.0 in /usr/local/lib/python3.7/dist-packages (from optuna) (1.4.44)\n",
            "Requirement already satisfied: tqdm in /usr/local/lib/python3.7/dist-packages (from optuna) (4.64.1)\n",
            "Collecting colorlog\n",
            "  Downloading colorlog-6.7.0-py2.py3-none-any.whl (11 kB)\n",
            "Collecting alembic>=1.5.0\n",
            "  Downloading alembic-1.8.1-py3-none-any.whl (209 kB)\n",
            "\u001b[K     |████████████████████████████████| 209 kB 66.6 MB/s \n",
            "\u001b[?25hCollecting cliff\n",
            "  Downloading cliff-3.10.1-py3-none-any.whl (81 kB)\n",
            "\u001b[K     |████████████████████████████████| 81 kB 10.7 MB/s \n",
            "\u001b[?25hRequirement already satisfied: packaging>=20.0 in /usr/local/lib/python3.7/dist-packages (from optuna) (21.3)\n",
            "Requirement already satisfied: importlib-resources in /usr/local/lib/python3.7/dist-packages (from alembic>=1.5.0->optuna) (5.10.0)\n",
            "Collecting Mako\n",
            "  Downloading Mako-1.2.4-py3-none-any.whl (78 kB)\n",
            "\u001b[K     |████████████████████████████████| 78 kB 8.7 MB/s \n",
            "\u001b[?25hRequirement already satisfied: zipp>=0.5 in /usr/local/lib/python3.7/dist-packages (from importlib-metadata<5.0.0->optuna) (3.10.0)\n",
            "Requirement already satisfied: typing-extensions>=3.6.4 in /usr/local/lib/python3.7/dist-packages (from importlib-metadata<5.0.0->optuna) (4.1.1)\n",
            "Requirement already satisfied: pyparsing!=3.0.5,>=2.0.2 in /usr/local/lib/python3.7/dist-packages (from packaging>=20.0->optuna) (3.0.9)\n",
            "Requirement already satisfied: greenlet!=0.4.17 in /usr/local/lib/python3.7/dist-packages (from sqlalchemy>=1.3.0->optuna) (2.0.1)\n",
            "Collecting autopage>=0.4.0\n",
            "  Downloading autopage-0.5.1-py3-none-any.whl (29 kB)\n",
            "Requirement already satisfied: PrettyTable>=0.7.2 in /usr/local/lib/python3.7/dist-packages (from cliff->optuna) (3.5.0)\n",
            "Collecting stevedore>=2.0.1\n",
            "  Downloading stevedore-3.5.2-py3-none-any.whl (50 kB)\n",
            "\u001b[K     |████████████████████████████████| 50 kB 8.2 MB/s \n",
            "\u001b[?25hCollecting pbr!=2.1.0,>=2.0.0\n",
            "  Downloading pbr-5.11.0-py2.py3-none-any.whl (112 kB)\n",
            "\u001b[K     |████████████████████████████████| 112 kB 71.2 MB/s \n",
            "\u001b[?25hCollecting cmd2>=1.0.0\n",
            "  Downloading cmd2-2.4.2-py3-none-any.whl (147 kB)\n",
            "\u001b[K     |████████████████████████████████| 147 kB 64.4 MB/s \n",
            "\u001b[?25hRequirement already satisfied: wcwidth>=0.1.7 in /usr/local/lib/python3.7/dist-packages (from cmd2>=1.0.0->cliff->optuna) (0.2.5)\n",
            "Collecting pyperclip>=1.6\n",
            "  Downloading pyperclip-1.8.2.tar.gz (20 kB)\n",
            "Requirement already satisfied: attrs>=16.3.0 in /usr/local/lib/python3.7/dist-packages (from cmd2>=1.0.0->cliff->optuna) (22.1.0)\n",
            "Requirement already satisfied: MarkupSafe>=0.9.2 in /usr/local/lib/python3.7/dist-packages (from Mako->alembic>=1.5.0->optuna) (2.0.1)\n",
            "Building wheels for collected packages: pyperclip\n",
            "  Building wheel for pyperclip (setup.py) ... \u001b[?25l\u001b[?25hdone\n",
            "  Created wheel for pyperclip: filename=pyperclip-1.8.2-py3-none-any.whl size=11136 sha256=73dde5952e64ecf89abf898589c63f790abac18a35fb850021d9a14599d76d9e\n",
            "  Stored in directory: /root/.cache/pip/wheels/9f/18/84/8f69f8b08169c7bae2dde6bd7daf0c19fca8c8e500ee620a28\n",
            "Successfully built pyperclip\n",
            "Installing collected packages: pyperclip, pbr, stevedore, Mako, cmd2, autopage, colorlog, cmaes, cliff, alembic, optuna\n",
            "Successfully installed Mako-1.2.4 alembic-1.8.1 autopage-0.5.1 cliff-3.10.1 cmaes-0.9.0 cmd2-2.4.2 colorlog-6.7.0 optuna-3.0.3 pbr-5.11.0 pyperclip-1.8.2 stevedore-3.5.2\n"
          ]
        }
      ],
      "source": [
        "pip install optuna"
      ]
    },
    {
      "cell_type": "markdown",
      "metadata": {
        "id": "mPvaO7iKTkCP"
      },
      "source": [
        "## eigene Funktionen"
      ]
    },
    {
      "cell_type": "code",
      "execution_count": null,
      "metadata": {
        "id": "yA-Agl8e63io"
      },
      "outputs": [],
      "source": [
        "# wichtigeste Bibliptheken\n",
        "import optuna\n",
        "import numpy as np\n",
        "import matplotlib as mpl\n",
        "import matplotlib.pyplot as plt\n",
        "import seaborn as sns\n",
        "from optuna.samplers import TPESampler\n",
        "import time\n",
        "import joblib\n",
        "from time import localtime\n",
        "import os\n",
        "\n",
        "# sonstige importe \n",
        "from sklearn.model_selection import cross_val_predict\n",
        "from sklearn.metrics import accuracy_score\n",
        "from sklearn.model_selection import cross_val_score\n",
        "from sklearn.metrics import confusion_matrix\n",
        "from sklearn.metrics import classification_report \n",
        "import xgboost as xgb\n",
        "from sklearn.base import TransformerMixin, BaseEstimator\n",
        "from sklearn.pipeline import Pipeline\n",
        "from sklearn.decomposition import PCA\n",
        "\n",
        "# Funktion für split methode\n",
        "import more_itertools\n",
        "from sklearn.utils import shuffle\n",
        "from sklearn.model_selection import StratifiedShuffleSplit\n",
        "\n",
        "# sonstige importe\n",
        "%matplotlib inline"
      ]
    },
    {
      "cell_type": "code",
      "execution_count": null,
      "metadata": {
        "colab": {
          "base_uri": "https://localhost:8080/",
          "height": 36
        },
        "id": "SZ6FC08pTmSE",
        "outputId": "d675e9f5-b37b-4058-d001-2c3965db2bbd"
      },
      "outputs": [
        {
          "output_type": "execute_result",
          "data": {
            "text/plain": [
              "'/content/drive/MyDrive/Optuna_studies/XGboost/23.Nov'"
            ],
            "application/vnd.google.colaboratory.intrinsic+json": {
              "type": "string"
            }
          },
          "metadata": {},
          "execution_count": 6
        }
      ],
      "source": [
        "# folder für study\n",
        "base_path = r\"/content/drive/MyDrive/Optuna_studies\"\n",
        "tag_monat = time.strftime(\"%d.%b\", localtime())\n",
        "notebook_name = f\"XGboost/{tag_monat}\"\n",
        "\n",
        "def path_erzeuger(basepath, anzuhängender_foldername):\n",
        "  anzuhängender_foldername_path = os.path.join(basepath, anzuhängender_foldername)\n",
        "  os.makedirs(anzuhängender_foldername_path, exist_ok = True)\n",
        "  return anzuhängender_foldername_path\n",
        "\n",
        "notebook_path = path_erzeuger(basepath=base_path, anzuhängender_foldername=notebook_name)\n",
        "notebook_path"
      ]
    },
    {
      "cell_type": "code",
      "execution_count": null,
      "metadata": {
        "id": "SsvqKYh1WP7D"
      },
      "outputs": [],
      "source": [
        "# save optuna study\n",
        "def speicher_study(directory, study):\n",
        "  tag_monat_uhrzeit=time.strftime(\"%d.%b_um_%Hh_%Mm\", localtime())\n",
        "  study_path=os.path.join(directory,f\"Acc_{study.best_trial.value:.2f}_{tag_monat_uhrzeit}.pkl\")\n",
        "  joblib.dump(study,study_path)"
      ]
    },
    {
      "cell_type": "code",
      "execution_count": null,
      "metadata": {
        "id": "Ezz6asRKWRmf"
      },
      "outputs": [],
      "source": [
        "class schrift:\n",
        "   PURPLE = '\\033[95m'\n",
        "   CYAN = '\\033[96m'\n",
        "   DARKCYAN = '\\033[36m'\n",
        "   BLUE = '\\033[94m'\n",
        "   GREEN = '\\033[92m'\n",
        "   YELLOW = '\\033[93m'\n",
        "   RED = '\\033[91m'\n",
        "   DICK = '\\033[1m'\n",
        "   UNDERLINE = '\\033[4m'\n",
        "   END = '\\033[0m'"
      ]
    },
    {
      "cell_type": "code",
      "execution_count": null,
      "metadata": {
        "id": "q_UAU5VkWUZn"
      },
      "outputs": [],
      "source": [
        "# unnötige Klassen und Funktionen\n",
        "def angebe_set_shapes(X_train, y_train, X_val, y_val, X_test, y_test):\n",
        "  print(\"Train\")\n",
        "  print(\"--> X_train: \",X_train.shape)\n",
        "  print(\"--> y_train: \",y_train.shape, \"\\n\")\n",
        "  print(\"Validation\")\n",
        "  print(\"--> X_val: \",X_val.shape)\n",
        "  print(\"--> y_val: \",y_val.shape,\"\\n\")\n",
        "  print(\"Test\")\n",
        "  print(\"--> X_test: \",X_test.shape)\n",
        "  print(\"--> y_test: \",y_test.shape,\"\\n\")"
      ]
    },
    {
      "cell_type": "code",
      "execution_count": null,
      "metadata": {
        "id": "6BOSGLlMWWYk"
      },
      "outputs": [],
      "source": [
        "def plotte_acc_ergebnisse(train_acc_list, val_acc_list):\n",
        "  print(schrift.GREEN, schrift.DICK, schrift.UNDERLINE, \"Train \",schrift.END, \"\\n\")  \n",
        "  print(schrift.RED, schrift.DICK,\"Train max accuracy: \", schrift.END, np.amax(train_acc_list), \"\\n\")\n",
        "  print(schrift.RED, schrift.DICK,\"index of max value: \", schrift.END,  np.argmax(train_acc_list), \"\\n\")\n",
        "  print(schrift.RED, schrift.DICK,\"mean accuracy: \", schrift.END, np.mean(train_acc_list))\n",
        "\n",
        "  print(schrift.BLUE, schrift.DICK, schrift.UNDERLINE, \"Validation \", schrift.END,\"\\n\")  \n",
        "  print(schrift.RED, schrift.DICK,\"Validation max accuracy: \", schrift.END, np.amax(val_acc_list), \"\\n\")\n",
        "  print(schrift.RED, schrift.DICK,\"index of max value: \", schrift.END,  np.argmax(val_acc_list), \"\\n\")\n",
        "  print(schrift.RED, schrift.DICK,\"mean accuracy: \", schrift.END, np.mean(val_acc_list))\n",
        "\n",
        "  plt.figure(figsize=(15,10))\n",
        "  plt.plot(train_acc_list, \"g\", label = \"Train Accuracy\")\n",
        "  plt.plot(np.repeat(np.mean(train_acc_list),len(train_acc_list)), \"g--\")\n",
        "  plt.plot(val_acc_list, \"b\", label = \"Validation Accuracy\")\n",
        "  plt.plot(np.repeat(np.mean(val_acc_list),len(val_acc_list)), \"b--\")\n",
        "  plt.legend(fontsize=\"medium\")"
      ]
    },
    {
      "cell_type": "code",
      "execution_count": null,
      "metadata": {
        "id": "1kiv8GA_WYFN"
      },
      "outputs": [],
      "source": [
        "def validate(model, X_data, y_data):\n",
        "  # AUC\n",
        "  scores = cross_val_score(model, X_data, y_data, scoring = \"roc_auc_ovr\", cv = 10)\n",
        "\n",
        "  # Confusion Matirx\n",
        "  predictions= cross_val_predict(model,X_data, y_data, cv = 10)\n",
        "  conf_matrix = confusion_matrix(y_data,predictions)\n",
        "\n",
        "  # Report für recall/precision/accuracy/f1\n",
        "  report = classification_report(y_data,predictions)\n",
        "\n",
        "  # print alles\n",
        "  print(\"AUC scores: \\n\", scores.mean(), \"\\n\")\n",
        "  print(\"Classification report: \\n\", report, \"\\n\")\n",
        "  print(\"Confusion Matrix: \\n\", conf_matrix)\n",
        "  sns.heatmap(conf_matrix)"
      ]
    },
    {
      "cell_type": "code",
      "execution_count": null,
      "metadata": {
        "id": "7Tjpa-WKWcKZ"
      },
      "outputs": [],
      "source": [
        "# Ergebnisse nach study\n",
        "def ergebnis(study, trial_ergebnisse=True, overfitting_test=True, slice_plot=True, param_importance=True, speichern = True, directory = notebook_path):\n",
        "  # trial werte\n",
        "  if trial_ergebnisse:\n",
        "    trial = study.best_trial\n",
        "    print(schrift.BLUE, schrift.DICK,\"Ergebnisse der Study: \", schrift.END, \"\\n\")\n",
        "    print(schrift.RED, schrift.DICK,\"Accuracy of best model: \", schrift.END, trial.value, \"\\n\")\n",
        "    print(schrift.RED, schrift.DICK,\"Best Hyperparameters: \", schrift.END, trial.params, \"\\n\")\n",
        "\n",
        "  # Overfitting Test\n",
        "  if overfitting_test:\n",
        "    model = xgb.XGBClassifier(use_label_encoder=False, val_metric='mlogloss',seed = 0)  # model initialisieren mit randomstate=0 ändern!!!\n",
        "    params = study.best_trial.params\n",
        "    model.set_params(**params)\n",
        "    model.fit(X_train,y_train)\n",
        "    prediction_main = model.predict(X_train)\n",
        "    prediciton_test = model.predict(X_val)\n",
        "    acc_main = accuracy_score(y_train, prediction_main)\n",
        "    acc_test = accuracy_score(y_val, prediciton_test)\n",
        "    print(schrift.BLUE, schrift.DICK,\"Overfitting Test : \", schrift.END, \"\\n\")\n",
        "    print(schrift.RED, schrift.DICK,\"Train acc: \",schrift.END,acc_main, \"\\n\")\n",
        "    print(schrift.RED, schrift.DICK,\"Test acc: \", schrift.END, acc_test)\n",
        "\n",
        "  # optuna plot\n",
        "  if slice_plot:\n",
        "    fig = optuna.visualization.plot_slice(study)\n",
        "    fig.show()\n",
        "  if param_importance:\n",
        "    fig = optuna.visualization.plot_param_importances(study)\n",
        "    fig.show()\n",
        "\n",
        "  if speichern:\n",
        "    speicher_study(directory, study)"
      ]
    },
    {
      "cell_type": "code",
      "execution_count": null,
      "metadata": {
        "id": "tpz4vHiNWeB3"
      },
      "outputs": [],
      "source": [
        "# Funktion für split\n",
        "import more_itertools\n",
        "from sklearn.model_selection import StratifiedShuffleSplit\n",
        "\n",
        "# Hinweis: in die Funktion nur Dataframes einsetzen\n",
        "def split_in_groß_klein_set(dataframe_was_gesplittet_werden_soll, größe_der_kleinen_gruppen = 0.2, spaltenname_nach_der_gesplittet_werden_soll=\"main-test-result\"):\n",
        "  dataframe_was_gesplittet_werden_soll = shuffle(dataframe_was_gesplittet_werden_soll)\n",
        "  aufteilungsgruppen = dataframe_was_gesplittet_werden_soll[spaltenname_nach_der_gesplittet_werden_soll].copy()\n",
        "  aufteilung = StratifiedShuffleSplit(n_splits=1, test_size=größe_der_kleinen_gruppen, random_state=0)\n",
        "\n",
        "  rückgabe_objekt_der_split_methode = aufteilung.split(dataframe_was_gesplittet_werden_soll, aufteilungsgruppen)\n",
        "  großer_set_id, kleiner_set_id = more_itertools.one(rückgabe_objekt_der_split_methode)\n",
        "  großer_set = dataframe_was_gesplittet_werden_soll.iloc[großer_set_id]\n",
        "  kleiner_set = dataframe_was_gesplittet_werden_soll.iloc[kleiner_set_id]\n",
        "  return großer_set ,kleiner_set"
      ]
    },
    {
      "cell_type": "code",
      "execution_count": null,
      "metadata": {
        "id": "Xpe7SGiaWjGm"
      },
      "outputs": [],
      "source": [
        "class MeinScaler(BaseEstimator, TransformerMixin):\n",
        "  def __init__(self):\n",
        "    self.min = None\n",
        "    self.max = None\n",
        "    self.is_fitted = False\n",
        "\n",
        "  def fit(self, data):\n",
        "    data = np.asarray(data)\n",
        "    self.min = np.min(data)\n",
        "    self.max = np.max(data)\n",
        "    self.is_fitted= True\n",
        "\n",
        "  def transform(self, data):\n",
        "    data = np.asarray(data)\n",
        "    return (data - self.min) / (self.max - self.min) "
      ]
    },
    {
      "cell_type": "code",
      "execution_count": null,
      "metadata": {
        "id": "6ZmBS3PdWkc8"
      },
      "outputs": [],
      "source": [
        "# overfitting test\n",
        "def overfitting_test(model, X_train, y_train, X_val, y_val):\n",
        "  model.fit(X_train,y_train)\n",
        "  prediction_main = model.predict(X_train)\n",
        "  prediciton_test = model.predict(X_val)\n",
        "  acc_main = accuracy_score(y_train, prediction_main)\n",
        "  acc_test = accuracy_score(y_val, prediciton_test)\n",
        "  print(\"Train acc: \",acc_main)\n",
        "  print(\"Test acc: \", acc_test)"
      ]
    },
    {
      "cell_type": "code",
      "execution_count": null,
      "metadata": {
        "id": "DJtmQ7b8jYax"
      },
      "outputs": [],
      "source": [
        "def optimize_speicher(study,note_bookpath=notebook_path, trialanzahl_pro_study=1000, anzahl_wiederholungen=1, plotte_nach_iter_iteration=2):\n",
        "  for i in range(anzahl_wiederholungen):\n",
        "    if i == plotte_nach_iter_iteration:\n",
        "      plotte_acc_ergebnisse(train_acc_list, val_acc_list)\n",
        "    study.optimize(objective, n_trials=trialanzahl_pro_study)\n",
        "    speicher_study(notebook_path, study)\n",
        "    print(schrift.RED, schrift.DICK,\"Gespeichert\", schrift.END,\"\\n\")"
      ]
    },
    {
      "cell_type": "markdown",
      "metadata": {
        "id": "bwPfhQROQLwO"
      },
      "source": [
        "## DataPreprocessing"
      ]
    },
    {
      "cell_type": "code",
      "execution_count": null,
      "metadata": {
        "colab": {
          "base_uri": "https://localhost:8080/"
        },
        "id": "2zu7RqKK68Wg",
        "outputId": "6588e1ac-a9bd-4fdc-ab2d-90a237d330d2"
      },
      "outputs": [
        {
          "output_type": "execute_result",
          "data": {
            "text/plain": [
              "   NR                         id       variant main-test-result  \\\n",
              "0   0  125050104S02_221115194628  125050104S02           passed   \n",
              "1   1  125050104S02_221115194435  125050104S02           passed   \n",
              "2   2  125050104S02_221115194428  125050104S02           passed   \n",
              "3   3  125050104S02_221115194355  125050104S02           passed   \n",
              "4   4  125050104S02_221115194331  125050104S02           passed   \n",
              "\n",
              "                                               mame1  \n",
              "0  4183, 3067, 1394, 2509, 3625, 2788, 3067, 1952...  \n",
              "1  5578, 1673, 3346, 3904, 3625, 3625, 3346, 3346...  \n",
              "2  5020, 4183, 2509, 1952, 4183, 3346, 3904, 3346...  \n",
              "3  4183, 6135, 3346, 2231, 3904, 3904, 3346, 3346...  \n",
              "4  5020, 4462, 1952, 2509, 3904, 3625, 3904, 2788...  "
            ],
            "text/html": [
              "\n",
              "  <div id=\"df-b0ccf67e-80bf-4b07-9ae7-55385500f538\">\n",
              "    <div class=\"colab-df-container\">\n",
              "      <div>\n",
              "<style scoped>\n",
              "    .dataframe tbody tr th:only-of-type {\n",
              "        vertical-align: middle;\n",
              "    }\n",
              "\n",
              "    .dataframe tbody tr th {\n",
              "        vertical-align: top;\n",
              "    }\n",
              "\n",
              "    .dataframe thead th {\n",
              "        text-align: right;\n",
              "    }\n",
              "</style>\n",
              "<table border=\"1\" class=\"dataframe\">\n",
              "  <thead>\n",
              "    <tr style=\"text-align: right;\">\n",
              "      <th></th>\n",
              "      <th>NR</th>\n",
              "      <th>id</th>\n",
              "      <th>variant</th>\n",
              "      <th>main-test-result</th>\n",
              "      <th>mame1</th>\n",
              "    </tr>\n",
              "  </thead>\n",
              "  <tbody>\n",
              "    <tr>\n",
              "      <th>0</th>\n",
              "      <td>0</td>\n",
              "      <td>125050104S02_221115194628</td>\n",
              "      <td>125050104S02</td>\n",
              "      <td>passed</td>\n",
              "      <td>4183, 3067, 1394, 2509, 3625, 2788, 3067, 1952...</td>\n",
              "    </tr>\n",
              "    <tr>\n",
              "      <th>1</th>\n",
              "      <td>1</td>\n",
              "      <td>125050104S02_221115194435</td>\n",
              "      <td>125050104S02</td>\n",
              "      <td>passed</td>\n",
              "      <td>5578, 1673, 3346, 3904, 3625, 3625, 3346, 3346...</td>\n",
              "    </tr>\n",
              "    <tr>\n",
              "      <th>2</th>\n",
              "      <td>2</td>\n",
              "      <td>125050104S02_221115194428</td>\n",
              "      <td>125050104S02</td>\n",
              "      <td>passed</td>\n",
              "      <td>5020, 4183, 2509, 1952, 4183, 3346, 3904, 3346...</td>\n",
              "    </tr>\n",
              "    <tr>\n",
              "      <th>3</th>\n",
              "      <td>3</td>\n",
              "      <td>125050104S02_221115194355</td>\n",
              "      <td>125050104S02</td>\n",
              "      <td>passed</td>\n",
              "      <td>4183, 6135, 3346, 2231, 3904, 3904, 3346, 3346...</td>\n",
              "    </tr>\n",
              "    <tr>\n",
              "      <th>4</th>\n",
              "      <td>4</td>\n",
              "      <td>125050104S02_221115194331</td>\n",
              "      <td>125050104S02</td>\n",
              "      <td>passed</td>\n",
              "      <td>5020, 4462, 1952, 2509, 3904, 3625, 3904, 2788...</td>\n",
              "    </tr>\n",
              "  </tbody>\n",
              "</table>\n",
              "</div>\n",
              "      <button class=\"colab-df-convert\" onclick=\"convertToInteractive('df-b0ccf67e-80bf-4b07-9ae7-55385500f538')\"\n",
              "              title=\"Convert this dataframe to an interactive table.\"\n",
              "              style=\"display:none;\">\n",
              "        \n",
              "  <svg xmlns=\"http://www.w3.org/2000/svg\" height=\"24px\"viewBox=\"0 0 24 24\"\n",
              "       width=\"24px\">\n",
              "    <path d=\"M0 0h24v24H0V0z\" fill=\"none\"/>\n",
              "    <path d=\"M18.56 5.44l.94 2.06.94-2.06 2.06-.94-2.06-.94-.94-2.06-.94 2.06-2.06.94zm-11 1L8.5 8.5l.94-2.06 2.06-.94-2.06-.94L8.5 2.5l-.94 2.06-2.06.94zm10 10l.94 2.06.94-2.06 2.06-.94-2.06-.94-.94-2.06-.94 2.06-2.06.94z\"/><path d=\"M17.41 7.96l-1.37-1.37c-.4-.4-.92-.59-1.43-.59-.52 0-1.04.2-1.43.59L10.3 9.45l-7.72 7.72c-.78.78-.78 2.05 0 2.83L4 21.41c.39.39.9.59 1.41.59.51 0 1.02-.2 1.41-.59l7.78-7.78 2.81-2.81c.8-.78.8-2.07 0-2.86zM5.41 20L4 18.59l7.72-7.72 1.47 1.35L5.41 20z\"/>\n",
              "  </svg>\n",
              "      </button>\n",
              "      \n",
              "  <style>\n",
              "    .colab-df-container {\n",
              "      display:flex;\n",
              "      flex-wrap:wrap;\n",
              "      gap: 12px;\n",
              "    }\n",
              "\n",
              "    .colab-df-convert {\n",
              "      background-color: #E8F0FE;\n",
              "      border: none;\n",
              "      border-radius: 50%;\n",
              "      cursor: pointer;\n",
              "      display: none;\n",
              "      fill: #1967D2;\n",
              "      height: 32px;\n",
              "      padding: 0 0 0 0;\n",
              "      width: 32px;\n",
              "    }\n",
              "\n",
              "    .colab-df-convert:hover {\n",
              "      background-color: #E2EBFA;\n",
              "      box-shadow: 0px 1px 2px rgba(60, 64, 67, 0.3), 0px 1px 3px 1px rgba(60, 64, 67, 0.15);\n",
              "      fill: #174EA6;\n",
              "    }\n",
              "\n",
              "    [theme=dark] .colab-df-convert {\n",
              "      background-color: #3B4455;\n",
              "      fill: #D2E3FC;\n",
              "    }\n",
              "\n",
              "    [theme=dark] .colab-df-convert:hover {\n",
              "      background-color: #434B5C;\n",
              "      box-shadow: 0px 1px 3px 1px rgba(0, 0, 0, 0.15);\n",
              "      filter: drop-shadow(0px 1px 2px rgba(0, 0, 0, 0.3));\n",
              "      fill: #FFFFFF;\n",
              "    }\n",
              "  </style>\n",
              "\n",
              "      <script>\n",
              "        const buttonEl =\n",
              "          document.querySelector('#df-b0ccf67e-80bf-4b07-9ae7-55385500f538 button.colab-df-convert');\n",
              "        buttonEl.style.display =\n",
              "          google.colab.kernel.accessAllowed ? 'block' : 'none';\n",
              "\n",
              "        async function convertToInteractive(key) {\n",
              "          const element = document.querySelector('#df-b0ccf67e-80bf-4b07-9ae7-55385500f538');\n",
              "          const dataTable =\n",
              "            await google.colab.kernel.invokeFunction('convertToInteractive',\n",
              "                                                     [key], {});\n",
              "          if (!dataTable) return;\n",
              "\n",
              "          const docLinkHtml = 'Like what you see? Visit the ' +\n",
              "            '<a target=\"_blank\" href=https://colab.research.google.com/notebooks/data_table.ipynb>data table notebook</a>'\n",
              "            + ' to learn more about interactive tables.';\n",
              "          element.innerHTML = '';\n",
              "          dataTable['output_type'] = 'display_data';\n",
              "          await google.colab.output.renderOutput(dataTable, element);\n",
              "          const docLink = document.createElement('div');\n",
              "          docLink.innerHTML = docLinkHtml;\n",
              "          element.appendChild(docLink);\n",
              "        }\n",
              "      </script>\n",
              "    </div>\n",
              "  </div>\n",
              "  "
            ]
          },
          "metadata": {},
          "execution_count": 17
        }
      ],
      "source": [
        "df.head()"
      ]
    },
    {
      "cell_type": "code",
      "execution_count": null,
      "metadata": {
        "colab": {
          "base_uri": "https://localhost:8080/"
        },
        "id": "_w8tBd-07ArH",
        "outputId": "7fc23d58-4cad-4562-a054-b0023d4355b0"
      },
      "outputs": [
        {
          "output_type": "execute_result",
          "data": {
            "text/plain": [
              "          NR                         id       variant main-test-result  \\\n",
              "0          0  125050104S02_221115194628  125050104S02           passed   \n",
              "1          1  125050104S02_221115194435  125050104S02           passed   \n",
              "2          2  125050104S02_221115194428  125050104S02           passed   \n",
              "3          3  125050104S02_221115194355  125050104S02           passed   \n",
              "4          4  125050104S02_221115194331  125050104S02           passed   \n",
              "...      ...                        ...           ...              ...   \n",
              "28837  28837  125050104S02_221005230707  125050104S02           passed   \n",
              "28838  28838  125050104S02_221005230700  125050104S02           passed   \n",
              "28839  28839  125050104S02_221005230627  125050104S02           passed   \n",
              "28840  28840  125050104S02_221005230620  125050104S02           passed   \n",
              "28841  28841  125050104S02_221005230543  125050104S02           passed   \n",
              "\n",
              "                                                   mame1  \n",
              "0      4183, 3067, 1394, 2509, 3625, 2788, 3067, 1952...  \n",
              "1      5578, 1673, 3346, 3904, 3625, 3625, 3346, 3346...  \n",
              "2      5020, 4183, 2509, 1952, 4183, 3346, 3904, 3346...  \n",
              "3      4183, 6135, 3346, 2231, 3904, 3904, 3346, 3346...  \n",
              "4      5020, 4462, 1952, 2509, 3904, 3625, 3904, 2788...  \n",
              "...                                                  ...  \n",
              "28837  3346, 278, 1115, 1952, 5020, 6972, 7530, 5857,...  \n",
              "28838  2231, 2788, 278, 0, 2788, 1673, 1394, 1394, 13...  \n",
              "28839  2788, 2231, 557, 836, 1673, 1394, 1673, 2231, ...  \n",
              "28840  1673, 4741, 1952, 1115, 2788, 3067, 2231, 2231...  \n",
              "28841  1115, 1394, 1115, 557, 836, 836, 557, 1115, 13...  \n",
              "\n",
              "[22693 rows x 5 columns]"
            ],
            "text/html": [
              "\n",
              "  <div id=\"df-5ddf6fd9-9473-48a2-9d27-fff554e844ad\">\n",
              "    <div class=\"colab-df-container\">\n",
              "      <div>\n",
              "<style scoped>\n",
              "    .dataframe tbody tr th:only-of-type {\n",
              "        vertical-align: middle;\n",
              "    }\n",
              "\n",
              "    .dataframe tbody tr th {\n",
              "        vertical-align: top;\n",
              "    }\n",
              "\n",
              "    .dataframe thead th {\n",
              "        text-align: right;\n",
              "    }\n",
              "</style>\n",
              "<table border=\"1\" class=\"dataframe\">\n",
              "  <thead>\n",
              "    <tr style=\"text-align: right;\">\n",
              "      <th></th>\n",
              "      <th>NR</th>\n",
              "      <th>id</th>\n",
              "      <th>variant</th>\n",
              "      <th>main-test-result</th>\n",
              "      <th>mame1</th>\n",
              "    </tr>\n",
              "  </thead>\n",
              "  <tbody>\n",
              "    <tr>\n",
              "      <th>0</th>\n",
              "      <td>0</td>\n",
              "      <td>125050104S02_221115194628</td>\n",
              "      <td>125050104S02</td>\n",
              "      <td>passed</td>\n",
              "      <td>4183, 3067, 1394, 2509, 3625, 2788, 3067, 1952...</td>\n",
              "    </tr>\n",
              "    <tr>\n",
              "      <th>1</th>\n",
              "      <td>1</td>\n",
              "      <td>125050104S02_221115194435</td>\n",
              "      <td>125050104S02</td>\n",
              "      <td>passed</td>\n",
              "      <td>5578, 1673, 3346, 3904, 3625, 3625, 3346, 3346...</td>\n",
              "    </tr>\n",
              "    <tr>\n",
              "      <th>2</th>\n",
              "      <td>2</td>\n",
              "      <td>125050104S02_221115194428</td>\n",
              "      <td>125050104S02</td>\n",
              "      <td>passed</td>\n",
              "      <td>5020, 4183, 2509, 1952, 4183, 3346, 3904, 3346...</td>\n",
              "    </tr>\n",
              "    <tr>\n",
              "      <th>3</th>\n",
              "      <td>3</td>\n",
              "      <td>125050104S02_221115194355</td>\n",
              "      <td>125050104S02</td>\n",
              "      <td>passed</td>\n",
              "      <td>4183, 6135, 3346, 2231, 3904, 3904, 3346, 3346...</td>\n",
              "    </tr>\n",
              "    <tr>\n",
              "      <th>4</th>\n",
              "      <td>4</td>\n",
              "      <td>125050104S02_221115194331</td>\n",
              "      <td>125050104S02</td>\n",
              "      <td>passed</td>\n",
              "      <td>5020, 4462, 1952, 2509, 3904, 3625, 3904, 2788...</td>\n",
              "    </tr>\n",
              "    <tr>\n",
              "      <th>...</th>\n",
              "      <td>...</td>\n",
              "      <td>...</td>\n",
              "      <td>...</td>\n",
              "      <td>...</td>\n",
              "      <td>...</td>\n",
              "    </tr>\n",
              "    <tr>\n",
              "      <th>28837</th>\n",
              "      <td>28837</td>\n",
              "      <td>125050104S02_221005230707</td>\n",
              "      <td>125050104S02</td>\n",
              "      <td>passed</td>\n",
              "      <td>3346, 278, 1115, 1952, 5020, 6972, 7530, 5857,...</td>\n",
              "    </tr>\n",
              "    <tr>\n",
              "      <th>28838</th>\n",
              "      <td>28838</td>\n",
              "      <td>125050104S02_221005230700</td>\n",
              "      <td>125050104S02</td>\n",
              "      <td>passed</td>\n",
              "      <td>2231, 2788, 278, 0, 2788, 1673, 1394, 1394, 13...</td>\n",
              "    </tr>\n",
              "    <tr>\n",
              "      <th>28839</th>\n",
              "      <td>28839</td>\n",
              "      <td>125050104S02_221005230627</td>\n",
              "      <td>125050104S02</td>\n",
              "      <td>passed</td>\n",
              "      <td>2788, 2231, 557, 836, 1673, 1394, 1673, 2231, ...</td>\n",
              "    </tr>\n",
              "    <tr>\n",
              "      <th>28840</th>\n",
              "      <td>28840</td>\n",
              "      <td>125050104S02_221005230620</td>\n",
              "      <td>125050104S02</td>\n",
              "      <td>passed</td>\n",
              "      <td>1673, 4741, 1952, 1115, 2788, 3067, 2231, 2231...</td>\n",
              "    </tr>\n",
              "    <tr>\n",
              "      <th>28841</th>\n",
              "      <td>28841</td>\n",
              "      <td>125050104S02_221005230543</td>\n",
              "      <td>125050104S02</td>\n",
              "      <td>passed</td>\n",
              "      <td>1115, 1394, 1115, 557, 836, 836, 557, 1115, 13...</td>\n",
              "    </tr>\n",
              "  </tbody>\n",
              "</table>\n",
              "<p>22693 rows × 5 columns</p>\n",
              "</div>\n",
              "      <button class=\"colab-df-convert\" onclick=\"convertToInteractive('df-5ddf6fd9-9473-48a2-9d27-fff554e844ad')\"\n",
              "              title=\"Convert this dataframe to an interactive table.\"\n",
              "              style=\"display:none;\">\n",
              "        \n",
              "  <svg xmlns=\"http://www.w3.org/2000/svg\" height=\"24px\"viewBox=\"0 0 24 24\"\n",
              "       width=\"24px\">\n",
              "    <path d=\"M0 0h24v24H0V0z\" fill=\"none\"/>\n",
              "    <path d=\"M18.56 5.44l.94 2.06.94-2.06 2.06-.94-2.06-.94-.94-2.06-.94 2.06-2.06.94zm-11 1L8.5 8.5l.94-2.06 2.06-.94-2.06-.94L8.5 2.5l-.94 2.06-2.06.94zm10 10l.94 2.06.94-2.06 2.06-.94-2.06-.94-.94-2.06-.94 2.06-2.06.94z\"/><path d=\"M17.41 7.96l-1.37-1.37c-.4-.4-.92-.59-1.43-.59-.52 0-1.04.2-1.43.59L10.3 9.45l-7.72 7.72c-.78.78-.78 2.05 0 2.83L4 21.41c.39.39.9.59 1.41.59.51 0 1.02-.2 1.41-.59l7.78-7.78 2.81-2.81c.8-.78.8-2.07 0-2.86zM5.41 20L4 18.59l7.72-7.72 1.47 1.35L5.41 20z\"/>\n",
              "  </svg>\n",
              "      </button>\n",
              "      \n",
              "  <style>\n",
              "    .colab-df-container {\n",
              "      display:flex;\n",
              "      flex-wrap:wrap;\n",
              "      gap: 12px;\n",
              "    }\n",
              "\n",
              "    .colab-df-convert {\n",
              "      background-color: #E8F0FE;\n",
              "      border: none;\n",
              "      border-radius: 50%;\n",
              "      cursor: pointer;\n",
              "      display: none;\n",
              "      fill: #1967D2;\n",
              "      height: 32px;\n",
              "      padding: 0 0 0 0;\n",
              "      width: 32px;\n",
              "    }\n",
              "\n",
              "    .colab-df-convert:hover {\n",
              "      background-color: #E2EBFA;\n",
              "      box-shadow: 0px 1px 2px rgba(60, 64, 67, 0.3), 0px 1px 3px 1px rgba(60, 64, 67, 0.15);\n",
              "      fill: #174EA6;\n",
              "    }\n",
              "\n",
              "    [theme=dark] .colab-df-convert {\n",
              "      background-color: #3B4455;\n",
              "      fill: #D2E3FC;\n",
              "    }\n",
              "\n",
              "    [theme=dark] .colab-df-convert:hover {\n",
              "      background-color: #434B5C;\n",
              "      box-shadow: 0px 1px 3px 1px rgba(0, 0, 0, 0.15);\n",
              "      filter: drop-shadow(0px 1px 2px rgba(0, 0, 0, 0.3));\n",
              "      fill: #FFFFFF;\n",
              "    }\n",
              "  </style>\n",
              "\n",
              "      <script>\n",
              "        const buttonEl =\n",
              "          document.querySelector('#df-5ddf6fd9-9473-48a2-9d27-fff554e844ad button.colab-df-convert');\n",
              "        buttonEl.style.display =\n",
              "          google.colab.kernel.accessAllowed ? 'block' : 'none';\n",
              "\n",
              "        async function convertToInteractive(key) {\n",
              "          const element = document.querySelector('#df-5ddf6fd9-9473-48a2-9d27-fff554e844ad');\n",
              "          const dataTable =\n",
              "            await google.colab.kernel.invokeFunction('convertToInteractive',\n",
              "                                                     [key], {});\n",
              "          if (!dataTable) return;\n",
              "\n",
              "          const docLinkHtml = 'Like what you see? Visit the ' +\n",
              "            '<a target=\"_blank\" href=https://colab.research.google.com/notebooks/data_table.ipynb>data table notebook</a>'\n",
              "            + ' to learn more about interactive tables.';\n",
              "          element.innerHTML = '';\n",
              "          dataTable['output_type'] = 'display_data';\n",
              "          await google.colab.output.renderOutput(dataTable, element);\n",
              "          const docLink = document.createElement('div');\n",
              "          docLink.innerHTML = docLinkHtml;\n",
              "          element.appendChild(docLink);\n",
              "        }\n",
              "      </script>\n",
              "    </div>\n",
              "  </div>\n",
              "  "
            ]
          },
          "metadata": {},
          "execution_count": 18
        }
      ],
      "source": [
        "variante1= (df[\"variant\"]==\"125050104S02\")\n",
        "df= df[variante1]\n",
        "df"
      ]
    },
    {
      "cell_type": "code",
      "execution_count": null,
      "metadata": {
        "colab": {
          "base_uri": "https://localhost:8080/"
        },
        "id": "qkNunX17_-8p",
        "outputId": "aeb3cc58-24f7-488c-ef87-cf4e51a94c68"
      },
      "outputs": [
        {
          "output_type": "execute_result",
          "data": {
            "text/plain": [
              "         0      1      2      3      4      5      6      7      8      9   \\\n",
              "0      4183   3067   1394   2509   3625   2788   3067   1952   2788   3904   \n",
              "1      5578   1673   3346   3904   3625   3625   3346   3346   3904   4462   \n",
              "2      5020   4183   2509   1952   4183   3346   3904   3346   3067   4183   \n",
              "3      4183   6135   3346   2231   3904   3904   3346   3346   3067   3625   \n",
              "4      5020   4462   1952   2509   3904   3625   3904   2788   2788   4183   \n",
              "...     ...    ...    ...    ...    ...    ...    ...    ...    ...    ...   \n",
              "28837  3346    278   1115   1952   5020   6972   7530   5857   6135   5857   \n",
              "28838  2231   2788    278      0   2788   1673   1394   1394   1394   1394   \n",
              "28839  2788   2231    557    836   1673   1394   1673   2231   1394   1673   \n",
              "28840  1673   4741   1952   1115   2788   3067   2231   2231   2231   2788   \n",
              "28841  1115   1394   1115    557    836    836    557   1115   1394   1115   \n",
              "\n",
              "       ...       82       83       84       85       86       87       88  \\\n",
              "0      ...   307651   300399   299562   308487   300678   302072   301235   \n",
              "1      ...   299562   298725   307930   304304   296494   302909   306814   \n",
              "2      ...   306814   305698   301514   310440   307372   300399   307372   \n",
              "3      ...   305698   304861   303467   302630   305698   303467   301235   \n",
              "4      ...   305977   296494   302351   305698   301793   299283   304025   \n",
              "...    ...      ...      ...      ...      ...      ...      ...      ...   \n",
              "28837  ...   306535   300399   302630   305698   302630   300120   304583   \n",
              "28838  ...   309324   306535   304583   308488   307930   305977   305419   \n",
              "28839  ...   304583   300120   299004   304583   303467   298167   300678   \n",
              "28840  ...   303188   304304   303746   302072   304862   303746   302630   \n",
              "28841  ...   307093   309045   306256   306256   309882   306814   305977   \n",
              "\n",
              "            89       90       91  \n",
              "0       305698   302909   300399  \n",
              "1       299283   299283   306535  \n",
              "2       312392   301235   304583  \n",
              "3       303746   304583   302630  \n",
              "4       301793   300678   301793  \n",
              "...        ...      ...      ...  \n",
              "28837   304304   300957   302630  \n",
              "28838   309324   305140   305698  \n",
              "28839   303467   301514   299841  \n",
              "28840   303188   303746   302351  \n",
              "28841   307930   308209   305977  \n",
              "\n",
              "[22693 rows x 92 columns]"
            ],
            "text/html": [
              "\n",
              "  <div id=\"df-de84c189-5829-4b7b-ad01-a324382dd67a\">\n",
              "    <div class=\"colab-df-container\">\n",
              "      <div>\n",
              "<style scoped>\n",
              "    .dataframe tbody tr th:only-of-type {\n",
              "        vertical-align: middle;\n",
              "    }\n",
              "\n",
              "    .dataframe tbody tr th {\n",
              "        vertical-align: top;\n",
              "    }\n",
              "\n",
              "    .dataframe thead th {\n",
              "        text-align: right;\n",
              "    }\n",
              "</style>\n",
              "<table border=\"1\" class=\"dataframe\">\n",
              "  <thead>\n",
              "    <tr style=\"text-align: right;\">\n",
              "      <th></th>\n",
              "      <th>0</th>\n",
              "      <th>1</th>\n",
              "      <th>2</th>\n",
              "      <th>3</th>\n",
              "      <th>4</th>\n",
              "      <th>5</th>\n",
              "      <th>6</th>\n",
              "      <th>7</th>\n",
              "      <th>8</th>\n",
              "      <th>9</th>\n",
              "      <th>...</th>\n",
              "      <th>82</th>\n",
              "      <th>83</th>\n",
              "      <th>84</th>\n",
              "      <th>85</th>\n",
              "      <th>86</th>\n",
              "      <th>87</th>\n",
              "      <th>88</th>\n",
              "      <th>89</th>\n",
              "      <th>90</th>\n",
              "      <th>91</th>\n",
              "    </tr>\n",
              "  </thead>\n",
              "  <tbody>\n",
              "    <tr>\n",
              "      <th>0</th>\n",
              "      <td>4183</td>\n",
              "      <td>3067</td>\n",
              "      <td>1394</td>\n",
              "      <td>2509</td>\n",
              "      <td>3625</td>\n",
              "      <td>2788</td>\n",
              "      <td>3067</td>\n",
              "      <td>1952</td>\n",
              "      <td>2788</td>\n",
              "      <td>3904</td>\n",
              "      <td>...</td>\n",
              "      <td>307651</td>\n",
              "      <td>300399</td>\n",
              "      <td>299562</td>\n",
              "      <td>308487</td>\n",
              "      <td>300678</td>\n",
              "      <td>302072</td>\n",
              "      <td>301235</td>\n",
              "      <td>305698</td>\n",
              "      <td>302909</td>\n",
              "      <td>300399</td>\n",
              "    </tr>\n",
              "    <tr>\n",
              "      <th>1</th>\n",
              "      <td>5578</td>\n",
              "      <td>1673</td>\n",
              "      <td>3346</td>\n",
              "      <td>3904</td>\n",
              "      <td>3625</td>\n",
              "      <td>3625</td>\n",
              "      <td>3346</td>\n",
              "      <td>3346</td>\n",
              "      <td>3904</td>\n",
              "      <td>4462</td>\n",
              "      <td>...</td>\n",
              "      <td>299562</td>\n",
              "      <td>298725</td>\n",
              "      <td>307930</td>\n",
              "      <td>304304</td>\n",
              "      <td>296494</td>\n",
              "      <td>302909</td>\n",
              "      <td>306814</td>\n",
              "      <td>299283</td>\n",
              "      <td>299283</td>\n",
              "      <td>306535</td>\n",
              "    </tr>\n",
              "    <tr>\n",
              "      <th>2</th>\n",
              "      <td>5020</td>\n",
              "      <td>4183</td>\n",
              "      <td>2509</td>\n",
              "      <td>1952</td>\n",
              "      <td>4183</td>\n",
              "      <td>3346</td>\n",
              "      <td>3904</td>\n",
              "      <td>3346</td>\n",
              "      <td>3067</td>\n",
              "      <td>4183</td>\n",
              "      <td>...</td>\n",
              "      <td>306814</td>\n",
              "      <td>305698</td>\n",
              "      <td>301514</td>\n",
              "      <td>310440</td>\n",
              "      <td>307372</td>\n",
              "      <td>300399</td>\n",
              "      <td>307372</td>\n",
              "      <td>312392</td>\n",
              "      <td>301235</td>\n",
              "      <td>304583</td>\n",
              "    </tr>\n",
              "    <tr>\n",
              "      <th>3</th>\n",
              "      <td>4183</td>\n",
              "      <td>6135</td>\n",
              "      <td>3346</td>\n",
              "      <td>2231</td>\n",
              "      <td>3904</td>\n",
              "      <td>3904</td>\n",
              "      <td>3346</td>\n",
              "      <td>3346</td>\n",
              "      <td>3067</td>\n",
              "      <td>3625</td>\n",
              "      <td>...</td>\n",
              "      <td>305698</td>\n",
              "      <td>304861</td>\n",
              "      <td>303467</td>\n",
              "      <td>302630</td>\n",
              "      <td>305698</td>\n",
              "      <td>303467</td>\n",
              "      <td>301235</td>\n",
              "      <td>303746</td>\n",
              "      <td>304583</td>\n",
              "      <td>302630</td>\n",
              "    </tr>\n",
              "    <tr>\n",
              "      <th>4</th>\n",
              "      <td>5020</td>\n",
              "      <td>4462</td>\n",
              "      <td>1952</td>\n",
              "      <td>2509</td>\n",
              "      <td>3904</td>\n",
              "      <td>3625</td>\n",
              "      <td>3904</td>\n",
              "      <td>2788</td>\n",
              "      <td>2788</td>\n",
              "      <td>4183</td>\n",
              "      <td>...</td>\n",
              "      <td>305977</td>\n",
              "      <td>296494</td>\n",
              "      <td>302351</td>\n",
              "      <td>305698</td>\n",
              "      <td>301793</td>\n",
              "      <td>299283</td>\n",
              "      <td>304025</td>\n",
              "      <td>301793</td>\n",
              "      <td>300678</td>\n",
              "      <td>301793</td>\n",
              "    </tr>\n",
              "    <tr>\n",
              "      <th>...</th>\n",
              "      <td>...</td>\n",
              "      <td>...</td>\n",
              "      <td>...</td>\n",
              "      <td>...</td>\n",
              "      <td>...</td>\n",
              "      <td>...</td>\n",
              "      <td>...</td>\n",
              "      <td>...</td>\n",
              "      <td>...</td>\n",
              "      <td>...</td>\n",
              "      <td>...</td>\n",
              "      <td>...</td>\n",
              "      <td>...</td>\n",
              "      <td>...</td>\n",
              "      <td>...</td>\n",
              "      <td>...</td>\n",
              "      <td>...</td>\n",
              "      <td>...</td>\n",
              "      <td>...</td>\n",
              "      <td>...</td>\n",
              "      <td>...</td>\n",
              "    </tr>\n",
              "    <tr>\n",
              "      <th>28837</th>\n",
              "      <td>3346</td>\n",
              "      <td>278</td>\n",
              "      <td>1115</td>\n",
              "      <td>1952</td>\n",
              "      <td>5020</td>\n",
              "      <td>6972</td>\n",
              "      <td>7530</td>\n",
              "      <td>5857</td>\n",
              "      <td>6135</td>\n",
              "      <td>5857</td>\n",
              "      <td>...</td>\n",
              "      <td>306535</td>\n",
              "      <td>300399</td>\n",
              "      <td>302630</td>\n",
              "      <td>305698</td>\n",
              "      <td>302630</td>\n",
              "      <td>300120</td>\n",
              "      <td>304583</td>\n",
              "      <td>304304</td>\n",
              "      <td>300957</td>\n",
              "      <td>302630</td>\n",
              "    </tr>\n",
              "    <tr>\n",
              "      <th>28838</th>\n",
              "      <td>2231</td>\n",
              "      <td>2788</td>\n",
              "      <td>278</td>\n",
              "      <td>0</td>\n",
              "      <td>2788</td>\n",
              "      <td>1673</td>\n",
              "      <td>1394</td>\n",
              "      <td>1394</td>\n",
              "      <td>1394</td>\n",
              "      <td>1394</td>\n",
              "      <td>...</td>\n",
              "      <td>309324</td>\n",
              "      <td>306535</td>\n",
              "      <td>304583</td>\n",
              "      <td>308488</td>\n",
              "      <td>307930</td>\n",
              "      <td>305977</td>\n",
              "      <td>305419</td>\n",
              "      <td>309324</td>\n",
              "      <td>305140</td>\n",
              "      <td>305698</td>\n",
              "    </tr>\n",
              "    <tr>\n",
              "      <th>28839</th>\n",
              "      <td>2788</td>\n",
              "      <td>2231</td>\n",
              "      <td>557</td>\n",
              "      <td>836</td>\n",
              "      <td>1673</td>\n",
              "      <td>1394</td>\n",
              "      <td>1673</td>\n",
              "      <td>2231</td>\n",
              "      <td>1394</td>\n",
              "      <td>1673</td>\n",
              "      <td>...</td>\n",
              "      <td>304583</td>\n",
              "      <td>300120</td>\n",
              "      <td>299004</td>\n",
              "      <td>304583</td>\n",
              "      <td>303467</td>\n",
              "      <td>298167</td>\n",
              "      <td>300678</td>\n",
              "      <td>303467</td>\n",
              "      <td>301514</td>\n",
              "      <td>299841</td>\n",
              "    </tr>\n",
              "    <tr>\n",
              "      <th>28840</th>\n",
              "      <td>1673</td>\n",
              "      <td>4741</td>\n",
              "      <td>1952</td>\n",
              "      <td>1115</td>\n",
              "      <td>2788</td>\n",
              "      <td>3067</td>\n",
              "      <td>2231</td>\n",
              "      <td>2231</td>\n",
              "      <td>2231</td>\n",
              "      <td>2788</td>\n",
              "      <td>...</td>\n",
              "      <td>303188</td>\n",
              "      <td>304304</td>\n",
              "      <td>303746</td>\n",
              "      <td>302072</td>\n",
              "      <td>304862</td>\n",
              "      <td>303746</td>\n",
              "      <td>302630</td>\n",
              "      <td>303188</td>\n",
              "      <td>303746</td>\n",
              "      <td>302351</td>\n",
              "    </tr>\n",
              "    <tr>\n",
              "      <th>28841</th>\n",
              "      <td>1115</td>\n",
              "      <td>1394</td>\n",
              "      <td>1115</td>\n",
              "      <td>557</td>\n",
              "      <td>836</td>\n",
              "      <td>836</td>\n",
              "      <td>557</td>\n",
              "      <td>1115</td>\n",
              "      <td>1394</td>\n",
              "      <td>1115</td>\n",
              "      <td>...</td>\n",
              "      <td>307093</td>\n",
              "      <td>309045</td>\n",
              "      <td>306256</td>\n",
              "      <td>306256</td>\n",
              "      <td>309882</td>\n",
              "      <td>306814</td>\n",
              "      <td>305977</td>\n",
              "      <td>307930</td>\n",
              "      <td>308209</td>\n",
              "      <td>305977</td>\n",
              "    </tr>\n",
              "  </tbody>\n",
              "</table>\n",
              "<p>22693 rows × 92 columns</p>\n",
              "</div>\n",
              "      <button class=\"colab-df-convert\" onclick=\"convertToInteractive('df-de84c189-5829-4b7b-ad01-a324382dd67a')\"\n",
              "              title=\"Convert this dataframe to an interactive table.\"\n",
              "              style=\"display:none;\">\n",
              "        \n",
              "  <svg xmlns=\"http://www.w3.org/2000/svg\" height=\"24px\"viewBox=\"0 0 24 24\"\n",
              "       width=\"24px\">\n",
              "    <path d=\"M0 0h24v24H0V0z\" fill=\"none\"/>\n",
              "    <path d=\"M18.56 5.44l.94 2.06.94-2.06 2.06-.94-2.06-.94-.94-2.06-.94 2.06-2.06.94zm-11 1L8.5 8.5l.94-2.06 2.06-.94-2.06-.94L8.5 2.5l-.94 2.06-2.06.94zm10 10l.94 2.06.94-2.06 2.06-.94-2.06-.94-.94-2.06-.94 2.06-2.06.94z\"/><path d=\"M17.41 7.96l-1.37-1.37c-.4-.4-.92-.59-1.43-.59-.52 0-1.04.2-1.43.59L10.3 9.45l-7.72 7.72c-.78.78-.78 2.05 0 2.83L4 21.41c.39.39.9.59 1.41.59.51 0 1.02-.2 1.41-.59l7.78-7.78 2.81-2.81c.8-.78.8-2.07 0-2.86zM5.41 20L4 18.59l7.72-7.72 1.47 1.35L5.41 20z\"/>\n",
              "  </svg>\n",
              "      </button>\n",
              "      \n",
              "  <style>\n",
              "    .colab-df-container {\n",
              "      display:flex;\n",
              "      flex-wrap:wrap;\n",
              "      gap: 12px;\n",
              "    }\n",
              "\n",
              "    .colab-df-convert {\n",
              "      background-color: #E8F0FE;\n",
              "      border: none;\n",
              "      border-radius: 50%;\n",
              "      cursor: pointer;\n",
              "      display: none;\n",
              "      fill: #1967D2;\n",
              "      height: 32px;\n",
              "      padding: 0 0 0 0;\n",
              "      width: 32px;\n",
              "    }\n",
              "\n",
              "    .colab-df-convert:hover {\n",
              "      background-color: #E2EBFA;\n",
              "      box-shadow: 0px 1px 2px rgba(60, 64, 67, 0.3), 0px 1px 3px 1px rgba(60, 64, 67, 0.15);\n",
              "      fill: #174EA6;\n",
              "    }\n",
              "\n",
              "    [theme=dark] .colab-df-convert {\n",
              "      background-color: #3B4455;\n",
              "      fill: #D2E3FC;\n",
              "    }\n",
              "\n",
              "    [theme=dark] .colab-df-convert:hover {\n",
              "      background-color: #434B5C;\n",
              "      box-shadow: 0px 1px 3px 1px rgba(0, 0, 0, 0.15);\n",
              "      filter: drop-shadow(0px 1px 2px rgba(0, 0, 0, 0.3));\n",
              "      fill: #FFFFFF;\n",
              "    }\n",
              "  </style>\n",
              "\n",
              "      <script>\n",
              "        const buttonEl =\n",
              "          document.querySelector('#df-de84c189-5829-4b7b-ad01-a324382dd67a button.colab-df-convert');\n",
              "        buttonEl.style.display =\n",
              "          google.colab.kernel.accessAllowed ? 'block' : 'none';\n",
              "\n",
              "        async function convertToInteractive(key) {\n",
              "          const element = document.querySelector('#df-de84c189-5829-4b7b-ad01-a324382dd67a');\n",
              "          const dataTable =\n",
              "            await google.colab.kernel.invokeFunction('convertToInteractive',\n",
              "                                                     [key], {});\n",
              "          if (!dataTable) return;\n",
              "\n",
              "          const docLinkHtml = 'Like what you see? Visit the ' +\n",
              "            '<a target=\"_blank\" href=https://colab.research.google.com/notebooks/data_table.ipynb>data table notebook</a>'\n",
              "            + ' to learn more about interactive tables.';\n",
              "          element.innerHTML = '';\n",
              "          dataTable['output_type'] = 'display_data';\n",
              "          await google.colab.output.renderOutput(dataTable, element);\n",
              "          const docLink = document.createElement('div');\n",
              "          docLink.innerHTML = docLinkHtml;\n",
              "          element.appendChild(docLink);\n",
              "        }\n",
              "      </script>\n",
              "    </div>\n",
              "  </div>\n",
              "  "
            ]
          },
          "metadata": {},
          "execution_count": 19
        }
      ],
      "source": [
        "y_data = df[\"main-test-result\"]\n",
        "X_data = df[\"mame1\"].str.split(\",\",expand=True) # meme spalte in mehrere spalten splitten\n",
        "X_data = X_data.iloc[:,:92] # punkte mit NaN rauslöschen\n",
        "X_data"
      ]
    },
    {
      "cell_type": "code",
      "execution_count": null,
      "metadata": {
        "id": "9-Q7qcEhADtT"
      },
      "outputs": [],
      "source": [
        "#def plot_graphen(dataframe, x_range = 88, color = \"g\", figsize=(15,10), label=None):\n",
        "#    x_achse = np.arange(x_range)\n",
        "#    y_achse = dataframe.astype(float)\n",
        "#    y_achse = np.array(y_achse).T\n",
        "#    plt.figure(figsize=figsize)\n",
        "#    plt.plot(x_achse, y_achse, c = color, label = label)\n",
        "\n",
        "#plot_graphen(dataframe = X_data , x_range = 92, color = \"g\", figsize=(15,10), label=None)"
      ]
    },
    {
      "cell_type": "code",
      "execution_count": null,
      "metadata": {
        "id": "cYma3SB-O-ec"
      },
      "outputs": [],
      "source": [
        "# OVERSAMPLING\n",
        "from imblearn.over_sampling import SMOTE\n",
        "smote = SMOTE()\n",
        "\n",
        "X_data, y_data = smote.fit_resample(X_data.astype(\"float\"), y_data)"
      ]
    },
    {
      "cell_type": "code",
      "execution_count": null,
      "metadata": {
        "id": "5c2GW8A5bYgn"
      },
      "outputs": [],
      "source": [
        "#Split in Sets\n",
        "df = pd.concat([X_data, y_data], axis =1)\n",
        "main_set, test_set = split_in_groß_klein_set(df)\n",
        "train_set, val_set = split_in_groß_klein_set(main_set)"
      ]
    },
    {
      "cell_type": "code",
      "execution_count": null,
      "metadata": {
        "id": "RMePhdmjdIsZ"
      },
      "outputs": [],
      "source": [
        "# Split in train, val, test daten\n",
        "# train data\n",
        "X_train = train_set.iloc[:,:-1]\n",
        "y_train = train_set[\"main-test-result\"].copy() \n",
        "\n",
        "# validation data\n",
        "X_val = val_set.iloc[:,:-1]\n",
        "y_val = val_set[\"main-test-result\"].copy() \n",
        "\n",
        "# test data\n",
        "X_test = test_set.iloc[:,:-1]\n",
        "y_test = test_set[\"main-test-result\"].copy() "
      ]
    },
    {
      "cell_type": "code",
      "execution_count": null,
      "metadata": {
        "id": "uKzcAgnYdZxF"
      },
      "outputs": [],
      "source": [
        "# process target\n",
        "from sklearn.preprocessing import LabelEncoder\n",
        "label_encoder = LabelEncoder()\n",
        "label_encoder.fit(y_train)\n",
        "\n",
        "y_train = label_encoder.transform(y_train)\n",
        "y_val = label_encoder.transform(y_val)\n",
        "y_test = label_encoder.transform(y_test)"
      ]
    },
    {
      "cell_type": "code",
      "execution_count": null,
      "metadata": {
        "id": "sJaB-UNkdbH6"
      },
      "outputs": [],
      "source": [
        "# process features\n",
        "scaler = MeinScaler()\n",
        "scaler.fit(X_train)\n",
        "\n",
        "X_train = scaler.transform(X_train)\n",
        "X_test = scaler.transform(X_test)\n",
        "X_val = scaler.transform(X_val)"
      ]
    },
    {
      "cell_type": "code",
      "execution_count": null,
      "metadata": {
        "colab": {
          "base_uri": "https://localhost:8080/"
        },
        "id": "bPYzZVFtddK7",
        "outputId": "627cc848-be3c-4484-89b7-c8accaf5502f"
      },
      "outputs": [
        {
          "output_type": "display_data",
          "data": {
            "text/plain": [
              "<Figure size 432x288 with 1 Axes>"
            ],
            "image/png": "[encoded data removed]"
          },
          "metadata": {
            "needs_background": "light"
          }
        }
      ],
      "source": [
        "for i in range(20):\n",
        " plt.plot(X_val[i])"
      ]
    },
    {
      "cell_type": "markdown",
      "metadata": {
        "id": "TKHS1uqefDUn"
      },
      "source": [
        "# HP Tuning"
      ]
    },
    {
      "cell_type": "code",
      "execution_count": null,
      "metadata": {
        "colab": {
          "base_uri": "https://localhost:8080/"
        },
        "id": "fQ7QUhIMdmPQ",
        "outputId": "a1eabff8-f230-4f5e-dfbf-821f33cc4145"
      },
      "outputs": [
        {
          "name": "stderr",
          "output_type": "stream",
          "text": [
            "\u001b[32m[I 2022-11-20 00:45:01,722]\u001b[0m A new study created in memory with name: no-name-b7572f48-0307-4341-8a98-45e3f5190994\u001b[0m\n",
            "\u001b[32m[I 2022-11-20 00:45:15,718]\u001b[0m Trial 0 finished with value: 0.5000691658597316 and parameters: {'n_estimators': 166, 'max_depth': 14, 'min_samples_split': 0.3053540542751055, 'min_samples_leaf': 0.27699275966847947, 'max_leaf_nodes': 65, 'min_weight_fraction_leaf': 0.19730929278933027, 'max_features': 0.40507674591116943, 'ccp_alpha': 0.08036779706960509}. Best is trial 0 with value: 0.5000691658597316.\u001b[0m\n",
            "\u001b[32m[I 2022-11-20 00:45:21,073]\u001b[0m Trial 1 finished with value: 0.5909531055471019 and parameters: {'n_estimators': 290, 'max_depth': 8, 'min_samples_split': 0.39794526866050567, 'min_samples_leaf': 0.2691585106789232, 'max_leaf_nodes': 86, 'min_weight_fraction_leaf': 0.2784230251048717, 'max_features': 0.08251173121414052, 'ccp_alpha': 0.008754507673437124}. Best is trial 1 with value: 0.5909531055471019.\u001b[0m\n",
            "\u001b[32m[I 2022-11-20 00:45:21,156]\u001b[0m Trial 2 finished with value: 0.49993083414026834 and parameters: {'n_estimators': 8, 'max_depth': 16, 'min_samples_split': 0.39129680796542676, 'min_samples_leaf': 0.4363059526409414, 'max_leaf_nodes': 147, 'min_weight_fraction_leaf': 0.24175598362284983, 'max_features': 0.42610183878258007, 'ccp_alpha': 0.07046709668949454}. Best is trial 1 with value: 0.5909531055471019.\u001b[0m\n",
            "\u001b[32m[I 2022-11-20 00:45:21,437]\u001b[0m Trial 3 finished with value: 0.5000691658597316 and parameters: {'n_estimators': 37, 'max_depth': 12, 'min_samples_split': 0.08024311083043273, 'min_samples_leaf': 0.4728877693542961, 'max_leaf_nodes': 79, 'min_weight_fraction_leaf': 0.13025196259725183, 'max_features': 0.2528089386520717, 'ccp_alpha': 0.06990679835964528}. Best is trial 1 with value: 0.5909531055471019.\u001b[0m\n",
            "\u001b[32m[I 2022-11-20 00:45:39,995]\u001b[0m Trial 4 finished with value: 0.5000691658597316 and parameters: {'n_estimators': 138, 'max_depth': 11, 'min_samples_split': 0.01920700221381402, 'min_samples_leaf': 0.31264139356717974, 'max_leaf_nodes': 93, 'min_weight_fraction_leaf': 0.1889108590936795, 'max_features': 0.8504983090928693, 'ccp_alpha': 0.06168200662021002}. Best is trial 1 with value: 0.5909531055471019.\u001b[0m\n",
            "\u001b[32m[I 2022-11-20 00:45:47,106]\u001b[0m Trial 5 finished with value: 0.6027113017014801 and parameters: {'n_estimators': 109, 'max_depth': 9, 'min_samples_split': 0.35183928600435976, 'min_samples_leaf': 0.039510481098342216, 'max_leaf_nodes': 101, 'min_weight_fraction_leaf': 0.20448498218926622, 'max_features': 0.20513665374498, 'ccp_alpha': 0.012474440491281942}. Best is trial 5 with value: 0.6027113017014801.\u001b[0m\n",
            "\u001b[32m[I 2022-11-20 00:45:50,582]\u001b[0m Trial 6 finished with value: 0.5888781297551529 and parameters: {'n_estimators': 96, 'max_depth': 8, 'min_samples_split': 0.289396417504761, 'min_samples_leaf': 0.224914741596537, 'max_leaf_nodes': 149, 'min_weight_fraction_leaf': 0.03959299511692814, 'max_features': 0.20381154536345453, 'ccp_alpha': 0.015356547091764667}. Best is trial 5 with value: 0.6027113017014801.\u001b[0m\n",
            "\u001b[32m[I 2022-11-20 00:46:35,825]\u001b[0m Trial 7 finished with value: 0.6039562871766496 and parameters: {'n_estimators': 197, 'max_depth': 6, 'min_samples_split': 0.23849227869959008, 'min_samples_leaf': 0.12976854008078534, 'max_leaf_nodes': 25, 'min_weight_fraction_leaf': 0.04200879093764849, 'max_features': 0.5975700387294406, 'ccp_alpha': 0.01329828267002663}. Best is trial 7 with value: 0.6039562871766496.\u001b[0m\n",
            "\u001b[32m[I 2022-11-20 00:47:02,095]\u001b[0m Trial 8 finished with value: 0.6047862774934293 and parameters: {'n_estimators': 60, 'max_depth': 8, 'min_samples_split': 0.4122866826254882, 'min_samples_leaf': 0.05757962513860002, 'max_leaf_nodes': 126, 'min_weight_fraction_leaf': 0.037868538289249284, 'max_features': 0.8792843292117883, 'ccp_alpha': 0.042709956946645436}. Best is trial 8 with value: 0.6047862774934293.\u001b[0m\n",
            "\u001b[32m[I 2022-11-20 00:47:55,127]\u001b[0m Trial 9 finished with value: 0.6992668418868446 and parameters: {'n_estimators': 294, 'max_depth': 12, 'min_samples_split': 0.3722391539051678, 'min_samples_leaf': 0.029202018204617132, 'max_leaf_nodes': 44, 'min_weight_fraction_leaf': 0.04485700275181898, 'max_features': 0.2806033738194876, 'ccp_alpha': 0.01156676698692772}. Best is trial 9 with value: 0.6992668418868446.\u001b[0m\n",
            "\u001b[32m[I 2022-11-20 00:48:27,989]\u001b[0m Trial 10 finished with value: 0.5000691658597316 and parameters: {'n_estimators': 290, 'max_depth': 3, 'min_samples_split': 0.4768613478214567, 'min_samples_leaf': 0.16606685471768112, 'max_leaf_nodes': 6, 'min_weight_fraction_leaf': 0.11430556962861738, 'max_features': 0.6982853347359834, 'ccp_alpha': 0.04011814352377048}. Best is trial 9 with value: 0.6992668418868446.\u001b[0m\n",
            "\u001b[32m[I 2022-11-20 00:49:26,183]\u001b[0m Trial 11 finished with value: 0.6047862774934293 and parameters: {'n_estimators': 233, 'max_depth': 18, 'min_samples_split': 0.478359317655917, 'min_samples_leaf': 0.025768046950981435, 'max_leaf_nodes': 48, 'min_weight_fraction_leaf': 0.08459939262334873, 'max_features': 0.5940803965763894, 'ccp_alpha': 0.035519471614819095}. Best is trial 9 with value: 0.6992668418868446.\u001b[0m\n",
            "\u001b[32m[I 2022-11-20 00:49:53,474]\u001b[0m Trial 12 finished with value: 0.6010513210679209 and parameters: {'n_estimators': 65, 'max_depth': 5, 'min_samples_split': 0.21529239960890015, 'min_samples_leaf': 0.10194639024494537, 'max_leaf_nodes': 122, 'min_weight_fraction_leaf': 0.011709156490178941, 'max_features': 0.8826967459671995, 'ccp_alpha': 0.02627137382761381}. Best is trial 9 with value: 0.6992668418868446.\u001b[0m\n",
            "\u001b[32m[I 2022-11-20 00:50:57,802]\u001b[0m Trial 13 finished with value: 0.6047862774934293 and parameters: {'n_estimators': 240, 'max_depth': 13, 'min_samples_split': 0.1700713362866812, 'min_samples_leaf': 0.017566362845460537, 'max_leaf_nodes': 50, 'min_weight_fraction_leaf': 0.0699253908238971, 'max_features': 0.32813586772545095, 'ccp_alpha': 0.05382370415285699}. Best is trial 9 with value: 0.6992668418868446.\u001b[0m\n",
            "\u001b[32m[I 2022-11-20 00:51:14,191]\u001b[0m Trial 14 finished with value: 0.6029879651404066 and parameters: {'n_estimators': 78, 'max_depth': 10, 'min_samples_split': 0.423437239752121, 'min_samples_leaf': 0.08957285592402212, 'max_leaf_nodes': 117, 'min_weight_fraction_leaf': 0.013571953037620595, 'max_features': 0.556507782948734, 'ccp_alpha': 0.027918824682350532}. Best is trial 9 with value: 0.6992668418868446.\u001b[0m\n",
            "\u001b[32m[I 2022-11-20 00:51:16,069]\u001b[0m Trial 15 finished with value: 0.6231843961820446 and parameters: {'n_estimators': 149, 'max_depth': 2, 'min_samples_split': 0.3250094596723164, 'min_samples_leaf': 0.18676133285166435, 'max_leaf_nodes': 35, 'min_weight_fraction_leaf': 0.09086428322548232, 'max_features': 0.025251469454912745, 'ccp_alpha': 0.0025111063086758756}. Best is trial 9 with value: 0.6992668418868446.\u001b[0m\n",
            "\u001b[32m[I 2022-11-20 00:51:18,613]\u001b[0m Trial 16 finished with value: 0.5957947157283165 and parameters: {'n_estimators': 172, 'max_depth': 3, 'min_samples_split': 0.3248513880402981, 'min_samples_leaf': 0.18246735067709957, 'max_leaf_nodes': 31, 'min_weight_fraction_leaf': 0.08792859778152487, 'max_features': 0.03264603231455168, 'ccp_alpha': 0.022999103870307888}. Best is trial 9 with value: 0.6992668418868446.\u001b[0m\n",
            "\u001b[32m[I 2022-11-20 00:51:20,059]\u001b[0m Trial 17 finished with value: 0.5000691658597316 and parameters: {'n_estimators': 215, 'max_depth': 5, 'min_samples_split': 0.17721330759936366, 'min_samples_leaf': 0.3486518807279872, 'max_leaf_nodes': 3, 'min_weight_fraction_leaf': 0.15449315489672763, 'max_features': 0.1415335069772053, 'ccp_alpha': 0.0036105458113772247}. Best is trial 9 with value: 0.6992668418868446.\u001b[0m\n",
            "\u001b[32m[I 2022-11-20 00:51:20,949]\u001b[0m Trial 18 finished with value: 0.5000691658597316 and parameters: {'n_estimators': 131, 'max_depth': 15, 'min_samples_split': 0.3591819229150316, 'min_samples_leaf': 0.3675021607168067, 'max_leaf_nodes': 60, 'min_weight_fraction_leaf': 0.11771181840824019, 'max_features': 0.3582439112310044, 'ccp_alpha': 0.0011512667494528502}. Best is trial 9 with value: 0.6992668418868446.\u001b[0m\n",
            "\u001b[32m[I 2022-11-20 00:51:38,537]\u001b[0m Trial 19 finished with value: 0.5933047447779776 and parameters: {'n_estimators': 261, 'max_depth': 2, 'min_samples_split': 0.13158813874448458, 'min_samples_leaf': 0.19104648489187828, 'max_leaf_nodes': 29, 'min_weight_fraction_leaf': 0.0643742525323432, 'max_features': 0.2692378450206028, 'ccp_alpha': 0.018052365662942542}. Best is trial 9 with value: 0.6992668418868446.\u001b[0m\n",
            "\u001b[32m[I 2022-11-20 00:51:46,585]\u001b[0m Trial 20 finished with value: 0.5923364227417347 and parameters: {'n_estimators': 195, 'max_depth': 11, 'min_samples_split': 0.28363782634152185, 'min_samples_leaf': 0.13934670953936687, 'max_leaf_nodes': 42, 'min_weight_fraction_leaf': 0.15251589579825625, 'max_features': 0.11822612462886808, 'ccp_alpha': 0.031163458046485765}. Best is trial 9 with value: 0.6992668418868446.\u001b[0m\n",
            "\u001b[32m[I 2022-11-20 00:52:07,044]\u001b[0m Trial 21 finished with value: 0.6047862774934293 and parameters: {'n_estimators': 55, 'max_depth': 7, 'min_samples_split': 0.4384571996433598, 'min_samples_leaf': 0.07220200747463913, 'max_leaf_nodes': 67, 'min_weight_fraction_leaf': 0.04949201541493402, 'max_features': 0.790705992773822, 'ccp_alpha': 0.05185433231639035}. Best is trial 9 with value: 0.6992668418868446.\u001b[0m\n",
            "\u001b[32m[I 2022-11-20 00:52:07,754]\u001b[0m Trial 22 finished with value: 0.49993083414026834 and parameters: {'n_estimators': 2, 'max_depth': 6, 'min_samples_split': 0.4411073967951767, 'min_samples_leaf': 0.09457800785099313, 'max_leaf_nodes': 68, 'min_weight_fraction_leaf': 0.09643596042999583, 'max_features': 0.7669601105685737, 'ccp_alpha': 0.04938640408259801}. Best is trial 9 with value: 0.6992668418868446.\u001b[0m\n",
            "\u001b[32m[I 2022-11-20 00:53:01,268]\u001b[0m Trial 23 finished with value: 0.6047862774934293 and parameters: {'n_estimators': 260, 'max_depth': 18, 'min_samples_split': 0.47068185433035054, 'min_samples_leaf': 0.015722013404795097, 'max_leaf_nodes': 44, 'min_weight_fraction_leaf': 0.08686304675415894, 'max_features': 0.4941170334295625, 'ccp_alpha': 0.03449599734106529}. Best is trial 9 with value: 0.6992668418868446.\u001b[0m\n",
            "\u001b[32m[I 2022-11-20 00:53:24,944]\u001b[0m Trial 24 finished with value: 0.5888781297551529 and parameters: {'n_estimators': 233, 'max_depth': 18, 'min_samples_split': 0.3697319132430329, 'min_samples_leaf': 0.2144192286519102, 'max_leaf_nodes': 25, 'min_weight_fraction_leaf': 0.07253531992998019, 'max_features': 0.6419869388014264, 'ccp_alpha': 0.0066538295371270095}. Best is trial 9 with value: 0.6992668418868446.\u001b[0m\n",
            "\u001b[32m[I 2022-11-20 00:53:26,208]\u001b[0m Trial 25 finished with value: 0.5000691658597316 and parameters: {'n_estimators': 111, 'max_depth': 4, 'min_samples_split': 0.32928743445312636, 'min_samples_leaf': 0.07289665364776171, 'max_leaf_nodes': 55, 'min_weight_fraction_leaf': 0.051658359733231844, 'max_features': 0.0216115545245138, 'ccp_alpha': 0.057446111216322884}. Best is trial 9 with value: 0.6992668418868446.\u001b[0m\n",
            "\u001b[32m[I 2022-11-20 00:53:32,454]\u001b[0m Trial 26 finished with value: 0.5000691658597316 and parameters: {'n_estimators': 36, 'max_depth': 10, 'min_samples_split': 0.2641549895465125, 'min_samples_leaf': 0.144217099759869, 'max_leaf_nodes': 16, 'min_weight_fraction_leaf': 0.03274961909520504, 'max_features': 0.5237244436708595, 'ccp_alpha': 0.04289988043572258}. Best is trial 9 with value: 0.6992668418868446.\u001b[0m\n",
            "\u001b[32m[I 2022-11-20 00:54:25,117]\u001b[0m Trial 27 finished with value: 0.6382625536035413 and parameters: {'n_estimators': 272, 'max_depth': 13, 'min_samples_split': 0.19020848332803575, 'min_samples_leaf': 0.015672026188018752, 'max_leaf_nodes': 40, 'min_weight_fraction_leaf': 0.12854232340552463, 'max_features': 0.3304311073229548, 'ccp_alpha': 0.02044657151125088}. Best is trial 9 with value: 0.6992668418868446.\u001b[0m\n",
            "\u001b[32m[I 2022-11-20 00:55:00,551]\u001b[0m Trial 28 finished with value: 0.6067229215659151 and parameters: {'n_estimators': 275, 'max_depth': 13, 'min_samples_split': 0.2136762576038727, 'min_samples_leaf': 0.12180091716988362, 'max_leaf_nodes': 37, 'min_weight_fraction_leaf': 0.13233286301882133, 'max_features': 0.33667136274938314, 'ccp_alpha': 0.017793099079055304}. Best is trial 9 with value: 0.6992668418868446.\u001b[0m\n",
            "\u001b[32m[I 2022-11-20 00:55:12,663]\u001b[0m Trial 29 finished with value: 0.5000691658597316 and parameters: {'n_estimators': 171, 'max_depth': 15, 'min_samples_split': 0.1251103274585733, 'min_samples_leaf': 0.22512775220614692, 'max_leaf_nodes': 14, 'min_weight_fraction_leaf': 0.17072231454107947, 'max_features': 0.44246537444423445, 'ccp_alpha': 0.022240986551092204}. Best is trial 9 with value: 0.6992668418868446.\u001b[0m\n",
            "\u001b[32m[I 2022-11-20 00:55:21,036]\u001b[0m Trial 30 finished with value: 0.5807165583068198 and parameters: {'n_estimators': 297, 'max_depth': 14, 'min_samples_split': 0.31878639534134057, 'min_samples_leaf': 0.3108351533138112, 'max_leaf_nodes': 74, 'min_weight_fraction_leaf': 0.1013947495580047, 'max_features': 0.1619784375462378, 'ccp_alpha': 0.008937603032973713}. Best is trial 9 with value: 0.6992668418868446.\u001b[0m\n",
            "\u001b[32m[I 2022-11-20 00:55:59,925]\u001b[0m Trial 31 finished with value: 0.6010513210679209 and parameters: {'n_estimators': 268, 'max_depth': 13, 'min_samples_split': 0.20987451580265742, 'min_samples_leaf': 0.11949074956720485, 'max_leaf_nodes': 39, 'min_weight_fraction_leaf': 0.13180394444591048, 'max_features': 0.3643397667193425, 'ccp_alpha': 0.019720758676359283}. Best is trial 9 with value: 0.6992668418868446.\u001b[0m\n",
            "\u001b[32m[I 2022-11-20 00:56:42,680]\u001b[0m Trial 32 finished with value: 0.6484991008438235 and parameters: {'n_estimators': 277, 'max_depth': 12, 'min_samples_split': 0.23157815111875474, 'min_samples_leaf': 0.05750244701647435, 'max_leaf_nodes': 38, 'min_weight_fraction_leaf': 0.14085876298118719, 'max_features': 0.297885703123591, 'ccp_alpha': 0.010489155042475861}. Best is trial 9 with value: 0.6992668418868446.\u001b[0m\n",
            "\u001b[32m[I 2022-11-20 00:57:13,133]\u001b[0m Trial 33 finished with value: 0.6500207497579195 and parameters: {'n_estimators': 250, 'max_depth': 12, 'min_samples_split': 0.2431899992177953, 'min_samples_leaf': 0.050648365618480656, 'max_leaf_nodes': 17, 'min_weight_fraction_leaf': 0.17668461534351837, 'max_features': 0.2881195193160187, 'ccp_alpha': 0.008660210638279004}. Best is trial 9 with value: 0.6992668418868446.\u001b[0m\n",
            "\u001b[32m[I 2022-11-20 00:57:37,219]\u001b[0m Trial 34 finished with value: 0.6045096140545027 and parameters: {'n_estimators': 249, 'max_depth': 12, 'min_samples_split': 0.24677904049864827, 'min_samples_leaf': 0.04863343966368321, 'max_leaf_nodes': 19, 'min_weight_fraction_leaf': 0.22270585675902554, 'max_features': 0.2695835831015167, 'ccp_alpha': 0.008967312590045151}. Best is trial 9 with value: 0.6992668418868446.\u001b[0m\n",
            "\u001b[32m[I 2022-11-20 00:58:08,650]\u001b[0m Trial 35 finished with value: 0.5000691658597316 and parameters: {'n_estimators': 285, 'max_depth': 16, 'min_samples_split': 0.16373951118845853, 'min_samples_leaf': 0.06343498560493818, 'max_leaf_nodes': 55, 'min_weight_fraction_leaf': 0.2951604368592684, 'max_features': 0.4166246603713947, 'ccp_alpha': 0.081616157232282}. Best is trial 9 with value: 0.6992668418868446.\u001b[0m\n",
            "\u001b[32m[I 2022-11-20 00:58:37,191]\u001b[0m Trial 36 finished with value: 0.6129478489417624 and parameters: {'n_estimators': 212, 'max_depth': 11, 'min_samples_split': 0.08686808160961984, 'min_samples_leaf': 0.014801713118588647, 'max_leaf_nodes': 10, 'min_weight_fraction_leaf': 0.1804205149464817, 'max_features': 0.2977010111185575, 'ccp_alpha': 0.01096928473339417}. Best is trial 9 with value: 0.6992668418868446.\u001b[0m\n",
            "\u001b[32m[I 2022-11-20 00:59:00,056]\u001b[0m Trial 37 finished with value: 0.5957947157283165 and parameters: {'n_estimators': 300, 'max_depth': 12, 'min_samples_split': 0.286853630245102, 'min_samples_leaf': 0.04337718475903991, 'max_leaf_nodes': 18, 'min_weight_fraction_leaf': 0.22064307424151597, 'max_features': 0.21410334372936668, 'ccp_alpha': 0.01464220153530665}. Best is trial 9 with value: 0.6992668418868446.\u001b[0m\n",
            "\u001b[32m[I 2022-11-20 00:59:01,832]\u001b[0m Trial 38 finished with value: 0.5000691658597316 and parameters: {'n_estimators': 277, 'max_depth': 14, 'min_samples_split': 0.19332190749801964, 'min_samples_leaf': 0.4281517379606176, 'max_leaf_nodes': 88, 'min_weight_fraction_leaf': 0.26605192980884307, 'max_features': 0.3964805499537818, 'ccp_alpha': 0.0748196788322565}. Best is trial 9 with value: 0.6992668418868446.\u001b[0m\n",
            "\u001b[32m[I 2022-11-20 00:59:23,343]\u001b[0m Trial 39 finished with value: 0.6534790427445013 and parameters: {'n_estimators': 251, 'max_depth': 9, 'min_samples_split': 0.25585125118703617, 'min_samples_leaf': 0.03774298295602029, 'max_leaf_nodes': 22, 'min_weight_fraction_leaf': 0.20420141708569678, 'max_features': 0.2196757627973681, 'ccp_alpha': 0.005354245464833338}. Best is trial 9 with value: 0.6992668418868446.\u001b[0m\n",
            "\u001b[32m[I 2022-11-20 00:59:41,783]\u001b[0m Trial 40 finished with value: 0.6505740766357726 and parameters: {'n_estimators': 220, 'max_depth': 9, 'min_samples_split': 0.2636707828146658, 'min_samples_leaf': 0.08229424644903408, 'max_leaf_nodes': 24, 'min_weight_fraction_leaf': 0.20779763847967916, 'max_features': 0.219436585797375, 'ccp_alpha': 0.005238051509192462}. Best is trial 9 with value: 0.6992668418868446.\u001b[0m\n",
            "\u001b[32m[I 2022-11-20 01:00:02,183]\u001b[0m Trial 41 finished with value: 0.6537557061834278 and parameters: {'n_estimators': 250, 'max_depth': 9, 'min_samples_split': 0.25418304555852367, 'min_samples_leaf': 0.08748867514094365, 'max_leaf_nodes': 26, 'min_weight_fraction_leaf': 0.2029407289430915, 'max_features': 0.21167619650693825, 'ccp_alpha': 0.006307316631576377}. Best is trial 9 with value: 0.6992668418868446.\u001b[0m\n",
            "\u001b[32m[I 2022-11-20 01:00:21,246]\u001b[0m Trial 42 finished with value: 0.6454558030156314 and parameters: {'n_estimators': 219, 'max_depth': 9, 'min_samples_split': 0.2655215809145392, 'min_samples_leaf': 0.08497670502718996, 'max_leaf_nodes': 24, 'min_weight_fraction_leaf': 0.20164194514440917, 'max_features': 0.21837755299217426, 'ccp_alpha': 0.007441798830093873}. Best is trial 9 with value: 0.6992668418868446.\u001b[0m\n",
            "\u001b[32m[I 2022-11-20 01:00:32,341]\u001b[0m Trial 43 finished with value: 0.6424125051874395 and parameters: {'n_estimators': 247, 'max_depth': 9, 'min_samples_split': 0.38248790053119053, 'min_samples_leaf': 0.10756216337646116, 'max_leaf_nodes': 9, 'min_weight_fraction_leaf': 0.24423886242318582, 'max_features': 0.0989093549646958, 'ccp_alpha': 0.004589721832731515}. Best is trial 9 with value: 0.6992668418868446.\u001b[0m\n",
            "\u001b[32m[I 2022-11-20 01:00:44,628]\u001b[0m Trial 44 finished with value: 0.6007746576289943 and parameters: {'n_estimators': 197, 'max_depth': 9, 'min_samples_split': 0.296748522573565, 'min_samples_leaf': 0.03688471012517526, 'max_leaf_nodes': 23, 'min_weight_fraction_leaf': 0.21588679701390795, 'max_features': 0.1712833918867289, 'ccp_alpha': 0.01456288990570858}. Best is trial 9 with value: 0.6992668418868446.\u001b[0m\n",
            "\u001b[32m[I 2022-11-20 01:00:59,447]\u001b[0m Trial 45 finished with value: 0.5000691658597316 and parameters: {'n_estimators': 228, 'max_depth': 10, 'min_samples_split': 0.2629684161564701, 'min_samples_leaf': 0.14385983842887073, 'max_leaf_nodes': 30, 'min_weight_fraction_leaf': 0.17438002253130916, 'max_features': 0.18595319999863263, 'ccp_alpha': 0.0891723190231268}. Best is trial 9 with value: 0.6992668418868446.\u001b[0m\n",
            "\u001b[32m[I 2022-11-20 01:01:18,884]\u001b[0m Trial 46 finished with value: 0.6421358417485129 and parameters: {'n_estimators': 253, 'max_depth': 7, 'min_samples_split': 0.3428843074310404, 'min_samples_leaf': 0.038673467659316556, 'max_leaf_nodes': 4, 'min_weight_fraction_leaf': 0.24427338478531213, 'max_features': 0.23817135909052392, 'ccp_alpha': 0.00648605086486905}. Best is trial 9 with value: 0.6992668418868446.\u001b[0m\n",
            "\u001b[32m[I 2022-11-20 01:01:28,922]\u001b[0m Trial 47 finished with value: 0.654862359939134 and parameters: {'n_estimators': 186, 'max_depth': 8, 'min_samples_split': 0.24381456792078854, 'min_samples_leaf': 0.08112214326001212, 'max_leaf_nodes': 12, 'min_weight_fraction_leaf': 0.19979949526360627, 'max_features': 0.13297481377982504, 'ccp_alpha': 0.0010358651600413963}. Best is trial 9 with value: 0.6992668418868446.\u001b[0m\n",
            "\u001b[32m[I 2022-11-20 01:01:32,917]\u001b[0m Trial 48 finished with value: 0.6457324664545581 and parameters: {'n_estimators': 189, 'max_depth': 8, 'min_samples_split': 0.01894865832855991, 'min_samples_leaf': 0.1671564308802369, 'max_leaf_nodes': 11, 'min_weight_fraction_leaf': 0.1944595304677506, 'max_features': 0.06377796634560065, 'ccp_alpha': 0.002397421435929845}. Best is trial 9 with value: 0.6992668418868446.\u001b[0m\n",
            "\u001b[32m[I 2022-11-20 01:01:38,178]\u001b[0m Trial 49 finished with value: 0.5888781297551529 and parameters: {'n_estimators': 204, 'max_depth': 7, 'min_samples_split': 0.2782737741212799, 'min_samples_leaf': 0.268097124965842, 'max_leaf_nodes': 48, 'min_weight_fraction_leaf': 0.2600465900208557, 'max_features': 0.13277946749989764, 'ccp_alpha': 0.013401242815887934}. Best is trial 9 with value: 0.6992668418868446.\u001b[0m\n",
            "\u001b[32m[I 2022-11-20 01:01:54,105]\u001b[0m Trial 50 finished with value: 0.6490524277216766 and parameters: {'n_estimators': 182, 'max_depth': 11, 'min_samples_split': 0.30877164562630044, 'min_samples_leaf': 0.08194366107576745, 'max_leaf_nodes': 100, 'min_weight_fraction_leaf': 0.21398468621896488, 'max_features': 0.24382390921270325, 'ccp_alpha': 0.001312871942311727}. Best is trial 9 with value: 0.6992668418868446.\u001b[0m\n",
            "\u001b[32m[I 2022-11-20 01:02:00,596]\u001b[0m Trial 51 finished with value: 0.6218010789874118 and parameters: {'n_estimators': 222, 'max_depth': 8, 'min_samples_split': 0.23151837901611363, 'min_samples_leaf': 0.10473854489007613, 'max_leaf_nodes': 32, 'min_weight_fraction_leaf': 0.23484169279475994, 'max_features': 0.0860563542424331, 'ccp_alpha': 0.006610876880241457}. Best is trial 9 with value: 0.6992668418868446.\u001b[0m\n",
            "\u001b[32m[I 2022-11-20 01:02:21,849]\u001b[0m Trial 52 finished with value: 0.6125328537833725 and parameters: {'n_estimators': 240, 'max_depth': 10, 'min_samples_split': 0.2450740843042342, 'min_samples_leaf': 0.057997828047936115, 'max_leaf_nodes': 2, 'min_weight_fraction_leaf': 0.1882186705567786, 'max_features': 0.2903535139778197, 'ccp_alpha': 0.011738075086613647}. Best is trial 9 with value: 0.6992668418868446.\u001b[0m\n",
            "\u001b[32m[I 2022-11-20 01:02:38,753]\u001b[0m Trial 53 finished with value: 0.6602572969982017 and parameters: {'n_estimators': 257, 'max_depth': 9, 'min_samples_split': 0.21442420317076594, 'min_samples_leaf': 0.03347594771437638, 'max_leaf_nodes': 19, 'min_weight_fraction_leaf': 0.20854145312070926, 'max_features': 0.16129984250027363, 'ccp_alpha': 0.00483864776949576}. Best is trial 9 with value: 0.6992668418868446.\u001b[0m\n",
            "\u001b[32m[I 2022-11-20 01:02:47,587]\u001b[0m Trial 54 finished with value: 0.6453174712961682 and parameters: {'n_estimators': 161, 'max_depth': 8, 'min_samples_split': 0.14135010533038067, 'min_samples_leaf': 0.03508110518008275, 'max_leaf_nodes': 24, 'min_weight_fraction_leaf': 0.23054200045243556, 'max_features': 0.15757602144372088, 'ccp_alpha': 0.004833348806445341}. Best is trial 9 with value: 0.6992668418868446.\u001b[0m\n",
            "\u001b[32m[I 2022-11-20 01:03:09,167]\u001b[0m Trial 55 finished with value: 0.5964863743256329 and parameters: {'n_estimators': 289, 'max_depth': 6, 'min_samples_split': 0.19987681917806238, 'min_samples_leaf': 0.07570227514581016, 'max_leaf_nodes': 30, 'min_weight_fraction_leaf': 0.2093952951226639, 'max_features': 0.20156757345559484, 'ccp_alpha': 0.025897742640449667}. Best is trial 9 with value: 0.6992668418868446.\u001b[0m\n",
            "\u001b[32m[I 2022-11-20 01:03:16,474]\u001b[0m Trial 56 finished with value: 0.6126711855028358 and parameters: {'n_estimators': 262, 'max_depth': 9, 'min_samples_split': 0.22238207554683057, 'min_samples_leaf': 0.11362651790291364, 'max_leaf_nodes': 21, 'min_weight_fraction_leaf': 0.1628231867365783, 'max_features': 0.06330269989495235, 'ccp_alpha': 0.01679360926561294}. Best is trial 9 with value: 0.6992668418868446.\u001b[0m\n",
            "\u001b[32m[I 2022-11-20 01:03:26,778]\u001b[0m Trial 57 finished with value: 0.6534790427445013 and parameters: {'n_estimators': 241, 'max_depth': 10, 'min_samples_split': 0.3023602313007894, 'min_samples_leaf': 0.09501252930368989, 'max_leaf_nodes': 11, 'min_weight_fraction_leaf': 0.19958573396919618, 'max_features': 0.11736808880371905, 'ccp_alpha': 0.004097139032792304}. Best is trial 9 with value: 0.6992668418868446.\u001b[0m\n",
            "\u001b[32m[I 2022-11-20 01:03:36,471]\u001b[0m Trial 58 finished with value: 0.6431041637847559 and parameters: {'n_estimators': 233, 'max_depth': 10, 'min_samples_split': 0.39891186407464935, 'min_samples_leaf': 0.15957950132904578, 'max_leaf_nodes': 9, 'min_weight_fraction_leaf': 0.19067029124253565, 'max_features': 0.14542811807312014, 'ccp_alpha': 0.0011105489017605823}. Best is trial 9 with value: 0.6992668418868446.\u001b[0m\n",
            "\u001b[32m[I 2022-11-20 01:03:43,855]\u001b[0m Trial 59 finished with value: 0.5000691658597316 and parameters: {'n_estimators': 207, 'max_depth': 11, 'min_samples_split': 0.30456773667090997, 'min_samples_leaf': 0.030489150919617066, 'max_leaf_nodes': 11, 'min_weight_fraction_leaf': 0.2554903092075991, 'max_features': 0.11718667635904488, 'ccp_alpha': 0.06524338373642423}. Best is trial 9 with value: 0.6992668418868446.\u001b[0m\n",
            "\u001b[32m[I 2022-11-20 01:03:47,033]\u001b[0m Trial 60 finished with value: 0.6014663162263106 and parameters: {'n_estimators': 138, 'max_depth': 7, 'min_samples_split': 0.3590300571511857, 'min_samples_leaf': 0.09402406897715809, 'max_leaf_nodes': 139, 'min_weight_fraction_leaf': 0.1857838681995475, 'max_features': 0.06263742495572869, 'ccp_alpha': 0.012597382268978385}. Best is trial 9 with value: 0.6992668418868446.\u001b[0m\n",
            "\u001b[32m[I 2022-11-20 01:04:05,171]\u001b[0m Trial 61 finished with value: 0.6566606722921566 and parameters: {'n_estimators': 240, 'max_depth': 9, 'min_samples_split': 0.27444316694939164, 'min_samples_leaf': 0.06935388570022423, 'max_leaf_nodes': 15, 'min_weight_fraction_leaf': 0.1996008097434522, 'max_features': 0.1885585508717401, 'ccp_alpha': 0.004605543343846974}. Best is trial 9 with value: 0.6992668418868446.\u001b[0m\n",
            "\u001b[32m[I 2022-11-20 01:04:24,189]\u001b[0m Trial 62 finished with value: 0.6540323696223544 and parameters: {'n_estimators': 242, 'max_depth': 10, 'min_samples_split': 0.33953294359254993, 'min_samples_leaf': 0.06255598587981984, 'max_leaf_nodes': 14, 'min_weight_fraction_leaf': 0.19862567177706245, 'max_features': 0.18100369407103015, 'ccp_alpha': 0.003985874290808758}. Best is trial 9 with value: 0.6992668418868446.\u001b[0m\n",
            "\u001b[32m[I 2022-11-20 01:04:45,314]\u001b[0m Trial 63 finished with value: 0.633005948263937 and parameters: {'n_estimators': 262, 'max_depth': 8, 'min_samples_split': 0.3389786755006073, 'min_samples_leaf': 0.011934049215597611, 'max_leaf_nodes': 15, 'min_weight_fraction_leaf': 0.16581916939607816, 'max_features': 0.19459320130693675, 'ccp_alpha': 0.009929968912829648}. Best is trial 9 with value: 0.6992668418868446.\u001b[0m\n",
            "\u001b[32m[I 2022-11-20 01:04:54,786]\u001b[0m Trial 64 finished with value: 0.6342509337391063 and parameters: {'n_estimators': 238, 'max_depth': 10, 'min_samples_split': 0.38200531078702293, 'min_samples_leaf': 0.1327477330882585, 'max_leaf_nodes': 6, 'min_weight_fraction_leaf': 0.23106897912936403, 'max_features': 0.1108933773818577, 'ccp_alpha': 0.002886918966484836}. Best is trial 9 with value: 0.6992668418868446.\u001b[0m\n",
            "\u001b[32m[I 2022-11-20 01:05:23,290]\u001b[0m Trial 65 finished with value: 0.6021579748236271 and parameters: {'n_estimators': 280, 'max_depth': 9, 'min_samples_split': 0.2744968859472152, 'min_samples_leaf': 0.06539981459091154, 'max_leaf_nodes': 28, 'min_weight_fraction_leaf': 0.20006554789405803, 'max_features': 0.2477480746730449, 'ccp_alpha': 0.015225259509093057}. Best is trial 9 with value: 0.6992668418868446.\u001b[0m\n",
            "\u001b[32m[I 2022-11-20 01:05:42,570]\u001b[0m Trial 66 finished with value: 0.6566606722921566 and parameters: {'n_estimators': 267, 'max_depth': 11, 'min_samples_split': 0.31585461655638614, 'min_samples_leaf': 0.09934215243267985, 'max_leaf_nodes': 35, 'min_weight_fraction_leaf': 0.145390909842343, 'max_features': 0.1804148070179011, 'ccp_alpha': 0.00434239056460365}. Best is trial 9 with value: 0.6992668418868446.\u001b[0m\n",
            "\u001b[32m[I 2022-11-20 01:05:57,962]\u001b[0m Trial 67 finished with value: 0.6421358417485129 and parameters: {'n_estimators': 267, 'max_depth': 11, 'min_samples_split': 0.40918258749603775, 'min_samples_leaf': 0.06348991673259788, 'max_leaf_nodes': 33, 'min_weight_fraction_leaf': 0.15562769104201993, 'max_features': 0.1735837721738494, 'ccp_alpha': 0.008852670929186509}. Best is trial 9 with value: 0.6992668418868446.\u001b[0m\n",
            "\u001b[32m[I 2022-11-20 01:06:14,583]\u001b[0m Trial 68 finished with value: 0.6010513210679209 and parameters: {'n_estimators': 288, 'max_depth': 11, 'min_samples_split': 0.32097702828689656, 'min_samples_leaf': 0.12269567415023849, 'max_leaf_nodes': 44, 'min_weight_fraction_leaf': 0.02385604358122803, 'max_features': 0.15441429144351804, 'ccp_alpha': 0.023001699338304246}. Best is trial 9 with value: 0.6992668418868446.\u001b[0m\n",
            "\u001b[32m[I 2022-11-20 01:06:40,559]\u001b[0m Trial 69 finished with value: 0.622907732743118 and parameters: {'n_estimators': 256, 'max_depth': 8, 'min_samples_split': 0.35451647107627665, 'min_samples_leaf': 0.07384246788340681, 'max_leaf_nodes': 36, 'min_weight_fraction_leaf': 0.14944096219716677, 'max_features': 0.25909918564630763, 'ccp_alpha': 0.011770790876299361}. Best is trial 9 with value: 0.6992668418868446.\u001b[0m\n",
            "\u001b[32m[I 2022-11-20 01:06:48,745]\u001b[0m Trial 70 finished with value: 0.6360492460921289 and parameters: {'n_estimators': 294, 'max_depth': 12, 'min_samples_split': 0.3752247345064481, 'min_samples_leaf': 0.026711364697546924, 'max_leaf_nodes': 63, 'min_weight_fraction_leaf': 0.11426837806965902, 'max_features': 0.04566679568847351, 'ccp_alpha': 0.01858937698029932}. Best is trial 9 with value: 0.6992668418868446.\u001b[0m\n",
            "\u001b[32m[I 2022-11-20 01:06:57,516]\u001b[0m Trial 71 finished with value: 0.652787384147185 and parameters: {'n_estimators': 242, 'max_depth': 10, 'min_samples_split': 0.3026746915050414, 'min_samples_leaf': 0.09122644763731251, 'max_leaf_nodes': 14, 'min_weight_fraction_leaf': 0.1951579691676338, 'max_features': 0.0915896779593928, 'ccp_alpha': 0.0012833003889069902}. Best is trial 9 with value: 0.6992668418868446.\u001b[0m\n",
            "\u001b[32m[I 2022-11-20 01:07:10,754]\u001b[0m Trial 72 finished with value: 0.6462857933324111 and parameters: {'n_estimators': 230, 'max_depth': 8, 'min_samples_split': 0.3381629976570184, 'min_samples_leaf': 0.09767799322938615, 'max_leaf_nodes': 19, 'min_weight_fraction_leaf': 0.2262869023179404, 'max_features': 0.18522734542455357, 'ccp_alpha': 0.0036435220798448865}. Best is trial 9 with value: 0.6992668418868446.\u001b[0m\n",
            "\u001b[32m[I 2022-11-20 01:07:37,441]\u001b[0m Trial 73 finished with value: 0.6574906626089362 and parameters: {'n_estimators': 267, 'max_depth': 9, 'min_samples_split': 0.22548164647726543, 'min_samples_leaf': 0.048580277441063587, 'max_leaf_nodes': 29, 'min_weight_fraction_leaf': 0.18349360239884271, 'max_features': 0.23044142674422577, 'ccp_alpha': 0.00691734606751658}. Best is trial 9 with value: 0.6992668418868446.\u001b[0m\n",
            "\u001b[32m[I 2022-11-20 01:07:55,705]\u001b[0m Trial 74 finished with value: 0.6620556093512242 and parameters: {'n_estimators': 271, 'max_depth': 7, 'min_samples_split': 0.160640205880692, 'min_samples_leaf': 0.027783590655779362, 'max_leaf_nodes': 43, 'min_weight_fraction_leaf': 0.18049850080732677, 'max_features': 0.14884885835641895, 'ccp_alpha': 0.007688582621643591}. Best is trial 9 with value: 0.6992668418868446.\u001b[0m\n",
            "\u001b[32m[I 2022-11-20 01:08:14,373]\u001b[0m Trial 75 finished with value: 0.6484991008438235 and parameters: {'n_estimators': 282, 'max_depth': 6, 'min_samples_split': 0.10273536849888389, 'min_samples_leaf': 0.04602470408469543, 'max_leaf_nodes': 51, 'min_weight_fraction_leaf': 0.1825820291107199, 'max_features': 0.1253099506947713, 'ccp_alpha': 0.008326303826658145}. Best is trial 9 with value: 0.6992668418868446.\u001b[0m\n",
            "\u001b[32m[I 2022-11-20 01:08:59,100]\u001b[0m Trial 76 finished with value: 0.6432424955042191 and parameters: {'n_estimators': 265, 'max_depth': 7, 'min_samples_split': 0.16581079424097353, 'min_samples_leaf': 0.021511015051718707, 'max_leaf_nodes': 57, 'min_weight_fraction_leaf': 0.1622757820835669, 'max_features': 0.3164201998302685, 'ccp_alpha': 0.011098545769354994}. Best is trial 9 with value: 0.6992668418868446.\u001b[0m\n",
            "\u001b[32m[I 2022-11-20 01:09:53,791]\u001b[0m Trial 77 finished with value: 0.6685572001659981 and parameters: {'n_estimators': 274, 'max_depth': 11, 'min_samples_split': 0.1852434972326285, 'min_samples_leaf': 0.05084995969194441, 'max_leaf_nodes': 44, 'min_weight_fraction_leaf': 0.14334433684691641, 'max_features': 0.36403079021961315, 'ccp_alpha': 0.006753801417552003}. Best is trial 9 with value: 0.6992668418868446.\u001b[0m\n",
            "\u001b[32m[I 2022-11-20 01:09:55,940]\u001b[0m Trial 78 finished with value: 0.5000691658597316 and parameters: {'n_estimators': 272, 'max_depth': 5, 'min_samples_split': 0.15271677907882558, 'min_samples_leaf': 0.4844969036153107, 'max_leaf_nodes': 46, 'min_weight_fraction_leaf': 0.14427424406341996, 'max_features': 0.4017597012932771, 'ccp_alpha': 0.015120542104065875}. Best is trial 9 with value: 0.6992668418868446.\u001b[0m\n",
            "\u001b[32m[I 2022-11-20 01:11:06,606]\u001b[0m Trial 79 finished with value: 0.6808687231982293 and parameters: {'n_estimators': 271, 'max_depth': 7, 'min_samples_split': 0.17756913451720532, 'min_samples_leaf': 0.049524575114672814, 'max_leaf_nodes': 42, 'min_weight_fraction_leaf': 0.1206635259402363, 'max_features': 0.3649612269988266, 'ccp_alpha': 0.007465872395379835}. Best is trial 9 with value: 0.6992668418868446.\u001b[0m\n",
            "\u001b[32m[I 2022-11-20 01:12:30,781]\u001b[0m Trial 80 finished with value: 0.6436574906626089 and parameters: {'n_estimators': 298, 'max_depth': 13, 'min_samples_split': 0.17637385939399153, 'min_samples_leaf': 0.05191397210919617, 'max_leaf_nodes': 51, 'min_weight_fraction_leaf': 0.11590525511113836, 'max_features': 0.3714360902807634, 'ccp_alpha': 0.020950036286196058}. Best is trial 9 with value: 0.6992668418868446.\u001b[0m\n",
            "\u001b[32m[I 2022-11-20 01:13:33,749]\u001b[0m Trial 81 finished with value: 0.6822520403928621 and parameters: {'n_estimators': 285, 'max_depth': 5, 'min_samples_split': 0.18761402928256127, 'min_samples_leaf': 0.02551730006674576, 'max_leaf_nodes': 41, 'min_weight_fraction_leaf': 0.10634642170388116, 'max_features': 0.3389027006524281, 'ccp_alpha': 0.008137514366751229}. Best is trial 9 with value: 0.6992668418868446.\u001b[0m\n",
            "\u001b[32m[I 2022-11-20 01:14:48,697]\u001b[0m Trial 82 finished with value: 0.6851570065015908 and parameters: {'n_estimators': 283, 'max_depth': 4, 'min_samples_split': 0.18706184971716353, 'min_samples_leaf': 0.03250930412761602, 'max_leaf_nodes': 42, 'min_weight_fraction_leaf': 0.1261869509024535, 'max_features': 0.47364981244189786, 'ccp_alpha': 0.007563803034668192}. Best is trial 9 with value: 0.6992668418868446.\u001b[0m\n",
            "\u001b[32m[I 2022-11-20 01:15:57,197]\u001b[0m Trial 83 finished with value: 0.6793470742841333 and parameters: {'n_estimators': 283, 'max_depth': 3, 'min_samples_split': 0.1864215117057731, 'min_samples_leaf': 0.010242356383300726, 'max_leaf_nodes': 41, 'min_weight_fraction_leaf': 0.10414836851760417, 'max_features': 0.4796151403356268, 'ccp_alpha': 0.008296459400484213}. Best is trial 9 with value: 0.6992668418868446.\u001b[0m\n",
            "\u001b[32m[I 2022-11-20 01:17:00,900]\u001b[0m Trial 84 finished with value: 0.6775487619311108 and parameters: {'n_estimators': 285, 'max_depth': 3, 'min_samples_split': 0.1812647173456921, 'min_samples_leaf': 0.02543628186468683, 'max_leaf_nodes': 43, 'min_weight_fraction_leaf': 0.10596068393560995, 'max_features': 0.45883275336048723, 'ccp_alpha': 0.007629735633057788}. Best is trial 9 with value: 0.6992668418868446.\u001b[0m\n",
            "\u001b[32m[I 2022-11-20 01:18:03,967]\u001b[0m Trial 85 finished with value: 0.6047862774934293 and parameters: {'n_estimators': 291, 'max_depth': 3, 'min_samples_split': 0.18578860125467395, 'min_samples_leaf': 0.029254898014583475, 'max_leaf_nodes': 74, 'min_weight_fraction_leaf': 0.10463702801849246, 'max_features': 0.4768324432101896, 'ccp_alpha': 0.03738835948893161}. Best is trial 9 with value: 0.6992668418868446.\u001b[0m\n",
            "\u001b[32m[I 2022-11-20 01:19:09,883]\u001b[0m Trial 86 finished with value: 0.6316226310693042 and parameters: {'n_estimators': 279, 'max_depth': 4, 'min_samples_split': 0.2047375697734522, 'min_samples_leaf': 0.02018421873758574, 'max_leaf_nodes': 41, 'min_weight_fraction_leaf': 0.12496258168884328, 'max_features': 0.4511477548437649, 'ccp_alpha': 0.013408135527149548}. Best is trial 9 with value: 0.6992668418868446.\u001b[0m\n",
            "\u001b[32m[I 2022-11-20 01:20:34,712]\u001b[0m Trial 87 finished with value: 0.686263660257297 and parameters: {'n_estimators': 285, 'max_depth': 4, 'min_samples_split': 0.12499595817252754, 'min_samples_leaf': 0.011703910780833663, 'max_leaf_nodes': 52, 'min_weight_fraction_leaf': 0.10594007823660778, 'max_features': 0.5248482965861011, 'ccp_alpha': 0.009852145770154903}. Best is trial 9 with value: 0.6992668418868446.\u001b[0m\n",
            "\u001b[32m[I 2022-11-20 01:21:58,887]\u001b[0m Trial 88 finished with value: 0.6854336699405174 and parameters: {'n_estimators': 287, 'max_depth': 4, 'min_samples_split': 0.0437875934712747, 'min_samples_leaf': 0.010295124333612689, 'max_leaf_nodes': 53, 'min_weight_fraction_leaf': 0.10343146468541384, 'max_features': 0.5188571128329837, 'ccp_alpha': 0.008917839343626372}. Best is trial 9 with value: 0.6992668418868446.\u001b[0m\n",
            "\u001b[32m[I 2022-11-20 01:23:28,578]\u001b[0m Trial 89 finished with value: 0.6765804398948679 and parameters: {'n_estimators': 295, 'max_depth': 4, 'min_samples_split': 0.04057852729172862, 'min_samples_leaf': 0.015317767655986768, 'max_leaf_nodes': 60, 'min_weight_fraction_leaf': 0.08040567149243, 'max_features': 0.5236911800397122, 'ccp_alpha': 0.016468329418194955}. Best is trial 9 with value: 0.6992668418868446.\u001b[0m\n",
            "\u001b[32m[I 2022-11-20 01:25:09,737]\u001b[0m Trial 90 finished with value: 0.6436574906626089 and parameters: {'n_estimators': 300, 'max_depth': 4, 'min_samples_split': 0.04499507546871228, 'min_samples_leaf': 0.012500406402211691, 'max_leaf_nodes': 59, 'min_weight_fraction_leaf': 0.06139416681154651, 'max_features': 0.5496346012453961, 'ccp_alpha': 0.031399682484393975}. Best is trial 9 with value: 0.6992668418868446.\u001b[0m\n",
            "\u001b[32m[I 2022-11-20 01:25:58,075]\u001b[0m Trial 91 finished with value: 0.6446258126988519 and parameters: {'n_estimators': 285, 'max_depth': 2, 'min_samples_split': 0.05292579144056603, 'min_samples_leaf': 0.0429175783447006, 'max_leaf_nodes': 53, 'min_weight_fraction_leaf': 0.08074964999348515, 'max_features': 0.5104121833353562, 'ccp_alpha': 0.016896979336371784}. Best is trial 9 with value: 0.6992668418868446.\u001b[0m\n",
            "\u001b[32m[I 2022-11-20 01:27:20,448]\u001b[0m Trial 92 finished with value: 0.6691105270438511 and parameters: {'n_estimators': 292, 'max_depth': 3, 'min_samples_split': 0.10905638943173773, 'min_samples_leaf': 0.011960276943743256, 'max_leaf_nodes': 64, 'min_weight_fraction_leaf': 0.10631359601054888, 'max_features': 0.6283322104216782, 'ccp_alpha': 0.010913031113752216}. Best is trial 9 with value: 0.6992668418868446.\u001b[0m\n",
            "\u001b[32m[I 2022-11-20 01:28:43,559]\u001b[0m Trial 93 finished with value: 0.6782404205284271 and parameters: {'n_estimators': 292, 'max_depth': 3, 'min_samples_split': 0.10468578671350699, 'min_samples_leaf': 0.010431711894984722, 'max_leaf_nodes': 64, 'min_weight_fraction_leaf': 0.10294449705746242, 'max_features': 0.6181430675118406, 'ccp_alpha': 0.01002125451988816}. Best is trial 9 with value: 0.6992668418868446.\u001b[0m\n",
            "\u001b[32m[I 2022-11-20 01:30:17,271]\u001b[0m Trial 94 finished with value: 0.6779637570895006 and parameters: {'n_estimators': 283, 'max_depth': 4, 'min_samples_split': 0.038478799208628386, 'min_samples_leaf': 0.010611229482099662, 'max_leaf_nodes': 67, 'min_weight_fraction_leaf': 0.09227826312192922, 'max_features': 0.5673711288390187, 'ccp_alpha': 0.013188234614951354}. Best is trial 9 with value: 0.6992668418868446.\u001b[0m\n",
            "\u001b[32m[I 2022-11-20 01:31:56,210]\u001b[0m Trial 95 finished with value: 0.683220362429105 and parameters: {'n_estimators': 285, 'max_depth': 5, 'min_samples_split': 0.05754876279671423, 'min_samples_leaf': 0.010093227086460948, 'max_leaf_nodes': 47, 'min_weight_fraction_leaf': 0.12265617516255684, 'max_features': 0.5714980743275139, 'ccp_alpha': 0.009733994130123637}. Best is trial 9 with value: 0.6992668418868446.\u001b[0m\n",
            "\u001b[32m[I 2022-11-20 01:33:45,855]\u001b[0m Trial 96 finished with value: 0.6763037764559413 and parameters: {'n_estimators': 280, 'max_depth': 5, 'min_samples_split': 0.0661189506107995, 'min_samples_leaf': 0.011086651002618164, 'max_leaf_nodes': 70, 'min_weight_fraction_leaf': 0.09548798654686895, 'max_features': 0.5930224010708476, 'ccp_alpha': 0.013013618696560363}. Best is trial 9 with value: 0.6992668418868446.\u001b[0m\n",
            "\u001b[32m[I 2022-11-20 01:35:47,781]\u001b[0m Trial 97 finished with value: 0.6709088393968737 and parameters: {'n_estimators': 300, 'max_depth': 5, 'min_samples_split': 0.027432537202656808, 'min_samples_leaf': 0.038281622184975446, 'max_leaf_nodes': 48, 'min_weight_fraction_leaf': 0.1356132917884385, 'max_features': 0.6759072452274906, 'ccp_alpha': 0.009681471498044738}. Best is trial 9 with value: 0.6992668418868446.\u001b[0m\n",
            "\u001b[32m[I 2022-11-20 01:37:27,096]\u001b[0m Trial 98 finished with value: 0.6323142896666205 and parameters: {'n_estimators': 288, 'max_depth': 4, 'min_samples_split': 0.0743248096933497, 'min_samples_leaf': 0.024042117536658913, 'max_leaf_nodes': 82, 'min_weight_fraction_leaf': 0.1211220191888373, 'max_features': 0.553207535974939, 'ccp_alpha': 0.013654968072200532}. Best is trial 9 with value: 0.6992668418868446.\u001b[0m\n",
            "\u001b[32m[I 2022-11-20 01:37:49,409]\u001b[0m Trial 99 finished with value: 0.5785032507954074 and parameters: {'n_estimators': 276, 'max_depth': 5, 'min_samples_split': 0.0932051018811562, 'min_samples_leaf': 0.2924967885022211, 'max_leaf_nodes': 55, 'min_weight_fraction_leaf': 0.09298789666684183, 'max_features': 0.48415138685533554, 'ccp_alpha': 0.010015536966063379}. Best is trial 9 with value: 0.6992668418868446.\u001b[0m\n"
          ]
        }
      ],
      "source": [
        "train_acc_list =[]\n",
        "val_acc_list = []\n",
        "\n",
        "# KEIN IMPURITY Decrease\n",
        "def objective(trial):\n",
        "      n_estimators = trial.suggest_int(\"n_estimators\",2,300)\n",
        "      max_depth = trial.suggest_int(\"max_depth\",2,18)\n",
        "      min_samples_split = trial.suggest_float(\"min_samples_split\",0.01,0.5)\n",
        "      min_samples_leaf = trial.suggest_float(\"min_samples_leaf\",0.01,0.5)\n",
        "      max_leaf_nodes = trial.suggest_int(\"max_leaf_nodes\",2,150)\n",
        "      min_weight_fraction_leaf = trial.suggest_float(\"min_weight_fraction_leaf\",0.01,0.3)\n",
        "      max_features = trial.suggest_float(\"max_features\",0.02,0.9)\n",
        "      ccp_alpha = trial.suggest_float(\"ccp_alpha\", 0.001,0.09)\n",
        "\n",
        "      model = RandomForestClassifier(n_estimators=n_estimators, max_depth=max_depth,  min_samples_split =min_samples_split,\n",
        "                                     min_samples_leaf=min_samples_leaf, max_leaf_nodes=max_leaf_nodes, ccp_alpha =ccp_alpha ,\n",
        "                                     min_weight_fraction_leaf=min_weight_fraction_leaf, max_features=max_features, random_state=0)\n",
        "      model.fit(X_train,y_train)\n",
        "      train_predictions = model.predict(X_train)\n",
        "      train_acc = accuracy_score(y_true=y_train, y_pred=train_predictions)\n",
        "      train_acc_list.append(train_acc)\n",
        "\n",
        "      val_predictions = model.predict(X_val)\n",
        "      val_acc = accuracy_score(y_true=y_val, y_pred=val_predictions)\n",
        "      val_acc_list.append(val_acc)\n",
        "      return val_acc\n",
        "\n",
        "study = optuna.create_study(sampler=optuna.samplers.TPESampler(seed=0),direction = \"maximize\", pruner=optuna.pruners.HyperbandPruner())\n",
        "study.optimize(objective, n_trials=100)"
      ]
    },
    {
      "cell_type": "code",
      "execution_count": null,
      "metadata": {
        "colab": {
          "base_uri": "https://localhost:8080/",
          "height": 845
        },
        "id": "stOC144km9_B",
        "outputId": "de4952fb-daca-4ec6-8292-79624dd33672"
      },
      "outputs": [
        {
          "name": "stdout",
          "output_type": "stream",
          "text": [
            "\u001b[92m \u001b[1m \u001b[4m Train  \u001b[0m \n",
            "\n",
            "\u001b[91m \u001b[1m Train max accuracy:  \u001b[0m 0.7090091647933598 \n",
            "\n",
            "\u001b[91m \u001b[1m index of max value:  \u001b[0m 9 \n",
            "\n",
            "\u001b[91m \u001b[1m mean accuracy:  \u001b[0m 0.6189714680961439\n",
            "\u001b[94m \u001b[1m \u001b[4m Validation  \u001b[0m \n",
            "\n",
            "\u001b[91m \u001b[1m Validation max accuracy:  \u001b[0m 0.6992668418868446 \n",
            "\n",
            "\u001b[91m \u001b[1m index of max value:  \u001b[0m 9 \n",
            "\n",
            "\u001b[91m \u001b[1m mean accuracy:  \u001b[0m 0.6132701618481117\n"
          ]
        },
        {
          "data": {
            "image/png": "[encoded data removed]",
            "text/plain": [
              "<Figure size 1080x720 with 1 Axes>"
            ]
          },
          "metadata": {},
          "output_type": "display_data"
        }
      ],
      "source": [
        "plotte_acc_ergebnisse(train_acc_list, val_acc_list)"
      ]
    },
    {
      "cell_type": "code",
      "execution_count": null,
      "metadata": {
        "colab": {
          "background_save": true,
          "base_uri": "https://localhost:8080/"
        },
        "id": "AJ3MAT4AjOjp",
        "outputId": "a1de0958-99d0-4cf8-de8d-cffb2a6b887d"
      },
      "outputs": [
        {
          "name": "stderr",
          "output_type": "stream",
          "text": [
            "\u001b[32m[I 2022-11-21 23:02:04,047]\u001b[0m A new study created in memory with name: no-name-db79a5a4-8438-43d6-982d-a3b49e09b11e\u001b[0m\n",
            "\u001b[32m[I 2022-11-21 23:13:46,462]\u001b[0m Trial 0 finished with value: 0.9982016876469775 and parameters: {'eta': 0.27441126382862313, 'max_depth': 24, 'gamma': 6.031606126955722, 'min_child_weight': 5.449286946785972, 'reg_alpha': 4.242311445395658, 'reg_lambda': 9.691952754869176, 'colsample_bytree': 0.7187936056313462, 'n_estimators': 2677}. Best is trial 0 with value: 0.9982016876469775.\u001b[0m\n",
            "\u001b[32m[I 2022-11-21 23:14:46,330]\u001b[0m Trial 1 finished with value: 0.9983400193664407 and parameters: {'eta': 0.48183174362290965, 'max_depth': 13, 'gamma': 7.919333130445819, 'min_child_weight': 5.289420302609292, 'reg_alpha': 5.6847651653283835, 'reg_lambda': 13.88469360800699, 'colsample_bytree': 0.5355180290989434, 'n_estimators': 270}. Best is trial 1 with value: 0.9983400193664407.\u001b[0m\n",
            "\u001b[32m[I 2022-11-21 23:24:37,992]\u001b[0m Trial 2 finished with value: 0.997925024208051 and parameters: {'eta': 0.010118996536188456, 'max_depth': 27, 'gamma': 7.783785941989006, 'min_child_weight': 8.700251470319945, 'reg_alpha': 9.786397238905312, 'reg_lambda': 11.989386877608686, 'colsample_bytree': 0.7307396811264659, 'n_estimators': 2344}. Best is trial 1 with value: 0.9983400193664407.\u001b[0m\n",
            "\u001b[32m[I 2022-11-21 23:30:34,364]\u001b[0m Trial 3 finished with value: 0.9982016876469775 and parameters: {'eta': 0.05914603019020792, 'max_depth': 21, 'gamma': 1.4420993412163736, 'min_child_weight': 9.44674450157879, 'reg_alpha': 5.223264734283216, 'reg_lambda': 6.225782480457949, 'colsample_bytree': 0.6322778060523135, 'n_estimators': 2325}. Best is trial 1 with value: 0.9983400193664407.\u001b[0m\n",
            "\u001b[32m[I 2022-11-21 23:37:16,914]\u001b[0m Trial 4 finished with value: 0.9986166828053673 and parameters: {'eta': 0.2280806046049521, 'max_depth': 19, 'gamma': 0.19771010635918787, 'min_child_weight': 6.176737335261695, 'reg_alpha': 6.124836269996989, 'reg_lambda': 9.257840613152606, 'colsample_bytree': 0.9718740392573121, 'n_estimators': 2049}. Best is trial 4 with value: 0.9986166828053673.\u001b[0m\n",
            "\u001b[32m[I 2022-11-21 23:39:22,084]\u001b[0m Trial 5 finished with value: 0.9982016876469775 and parameters: {'eta': 0.17976035520788727, 'max_depth': 15, 'gamma': 6.979335647313376, 'min_child_weight': 0.6031944908210691, 'reg_alpha': 6.67099948730222, 'reg_lambda': 10.062861665576209, 'colsample_bytree': 0.6051912805369204, 'n_estimators': 395}. Best is trial 4 with value: 0.9986166828053673.\u001b[0m\n",
            "\u001b[32m[I 2022-11-21 23:41:19,455]\u001b[0m Trial 6 finished with value: 0.9983400193664407 and parameters: {'eta': 0.1577210211785827, 'max_depth': 13, 'gamma': 5.706265736474617, 'min_child_weight': 4.386576533109742, 'reg_alpha': 9.88385464221167, 'reg_lambda': 1.5396517131129408, 'colsample_bytree': 0.6044383780474174, 'n_estimators': 492}. Best is trial 4 with value: 0.9986166828053673.\u001b[0m\n",
            "\u001b[32m[I 2022-11-21 23:43:12,349]\u001b[0m Trial 7 finished with value: 0.998478351085904 and parameters: {'eta': 0.32655763164944457, 'max_depth': 9, 'gamma': 4.668444620834499, 'min_child_weight': 2.4450114944240258, 'reg_alpha': 1.598106140618742, 'reg_lambda': 1.664523366052934, 'colsample_bytree': 0.8281647947326367, 'n_estimators': 423}. Best is trial 4 with value: 0.9986166828053673.\u001b[0m\n",
            "\u001b[32m[I 2022-11-21 23:53:46,560]\u001b[0m Trial 8 finished with value: 0.9980633559275142 and parameters: {'eta': 0.09829921501640994, 'max_depth': 13, 'gamma': 8.211722366180872, 'min_child_weight': 0.9719156566548197, 'reg_alpha': 8.381069625913051, 'reg_lambda': 1.4505151343305065, 'colsample_bytree': 0.9882297325066979, 'n_estimators': 1411}. Best is trial 4 with value: 0.9986166828053673.\u001b[0m\n",
            "\u001b[32m[I 2022-11-21 23:56:20,204]\u001b[0m Trial 9 finished with value: 0.9983400193664407 and parameters: {'eta': 0.4883807764842867, 'max_depth': 20, 'gamma': 7.395243158189034, 'min_child_weight': 0.39283873475095243, 'reg_alpha': 2.8352415561383317, 'reg_lambda': 1.811746452585402, 'colsample_bytree': 0.6480700987610725, 'n_estimators': 365}. Best is trial 4 with value: 0.9986166828053673.\u001b[0m\n",
            "\u001b[32m[I 2022-11-22 00:00:24,619]\u001b[0m Trial 10 finished with value: 0.9986166828053673 and parameters: {'eta': 0.38317181606627604, 'max_depth': 31, 'gamma': 0.21748065932166494, 'min_child_weight': 7.241689083169376, 'reg_alpha': 0.28694970554720634, 'reg_lambda': 5.522247555253882, 'colsample_bytree': 0.9370159738357041, 'n_estimators': 1485}. Best is trial 4 with value: 0.9986166828053673.\u001b[0m\n",
            "\u001b[32m[I 2022-11-22 00:04:22,685]\u001b[0m Trial 11 finished with value: 0.998478351085904 and parameters: {'eta': 0.387652777555637, 'max_depth': 32, 'gamma': 0.03621894775512516, 'min_child_weight': 7.4679076854064945, 'reg_alpha': 0.6857625983870106, 'reg_lambda': 6.051841761138412, 'colsample_bytree': 0.9569508155164782, 'n_estimators': 1527}. Best is trial 4 with value: 0.9986166828053673.\u001b[0m\n",
            "\u001b[32m[I 2022-11-22 00:05:47,020]\u001b[0m Trial 12 finished with value: 0.9980633559275142 and parameters: {'eta': 0.37990587273312426, 'max_depth': 2, 'gamma': 2.5875464704876556, 'min_child_weight': 7.229540857914627, 'reg_alpha': 3.297856783404675, 'reg_lambda': 4.95131176706673, 'colsample_bytree': 0.8833023826510629, 'n_estimators': 1368}. Best is trial 4 with value: 0.9986166828053673.\u001b[0m\n",
            "\u001b[32m[I 2022-11-22 00:14:24,698]\u001b[0m Trial 13 finished with value: 0.9982016876469775 and parameters: {'eta': 0.20156457511119513, 'max_depth': 31, 'gamma': 3.273495203069275, 'min_child_weight': 6.963145765140959, 'reg_alpha': 7.165911301011066, 'reg_lambda': 8.937130961319161, 'colsample_bytree': 0.8970634948512841, 'n_estimators': 1881}. Best is trial 4 with value: 0.9986166828053673.\u001b[0m\n",
            "\u001b[32m[I 2022-11-22 00:17:51,271]\u001b[0m Trial 14 finished with value: 0.9983400193664407 and parameters: {'eta': 0.2701125348376953, 'max_depth': 27, 'gamma': 0.4853103477388405, 'min_child_weight': 3.7097251455047884, 'reg_alpha': 0.5118301761864605, 'reg_lambda': 4.294743102871397, 'colsample_bytree': 0.8315198045025496, 'n_estimators': 913}. Best is trial 4 with value: 0.9986166828053673.\u001b[0m\n",
            "\u001b[32m[I 2022-11-22 00:24:19,061]\u001b[0m Trial 15 finished with value: 0.9983400193664407 and parameters: {'eta': 0.37384298905763974, 'max_depth': 7, 'gamma': 1.7502493664504637, 'min_child_weight': 6.232444975587601, 'reg_alpha': 2.6565986169772913, 'reg_lambda': 7.97246543083241, 'colsample_bytree': 0.9246454715895972, 'n_estimators': 1925}. Best is trial 4 with value: 0.9986166828053673.\u001b[0m\n",
            "\u001b[32m[I 2022-11-22 00:36:46,084]\u001b[0m Trial 16 finished with value: 0.9983400193664407 and parameters: {'eta': 0.33089632194724466, 'max_depth': 19, 'gamma': 3.133725072651782, 'min_child_weight': 7.928369625329341, 'reg_alpha': 6.918180789408299, 'reg_lambda': 11.915156961559259, 'colsample_bytree': 0.997734804999753, 'n_estimators': 2885}. Best is trial 4 with value: 0.9986166828053673.\u001b[0m\n",
            "\u001b[32m[I 2022-11-22 00:42:41,494]\u001b[0m Trial 17 finished with value: 0.9980633559275142 and parameters: {'eta': 0.4409258803670069, 'max_depth': 25, 'gamma': 9.859157798116275, 'min_child_weight': 3.3697476920473446, 'reg_alpha': 4.318682618583657, 'reg_lambda': 3.694079758656245, 'colsample_bytree': 0.8145429182179895, 'n_estimators': 976}. Best is trial 4 with value: 0.9986166828053673.\u001b[0m\n",
            "\u001b[32m[I 2022-11-22 00:50:29,238]\u001b[0m Trial 18 finished with value: 0.9983400193664407 and parameters: {'eta': 0.22430448552310972, 'max_depth': 29, 'gamma': 4.440892388787421, 'min_child_weight': 9.860029002937415, 'reg_alpha': 8.064604110821435, 'reg_lambda': 7.200337187813265, 'colsample_bytree': 0.7781974783673642, 'n_estimators': 1979}. Best is trial 4 with value: 0.9986166828053673.\u001b[0m\n",
            "\u001b[32m[I 2022-11-22 00:55:20,512]\u001b[0m Trial 19 finished with value: 0.9983400193664407 and parameters: {'eta': 0.13323114044310724, 'max_depth': 23, 'gamma': 1.1555941844087274, 'min_child_weight': 6.479430757043779, 'reg_alpha': 6.112557191074392, 'reg_lambda': 10.593710070258807, 'colsample_bytree': 0.930762366934331, 'n_estimators': 1035}. Best is trial 4 with value: 0.9986166828053673.\u001b[0m\n",
            "\u001b[32m[I 2022-11-22 01:01:09,950]\u001b[0m Trial 20 finished with value: 0.998478351085904 and parameters: {'eta': 0.3107908120400042, 'max_depth': 17, 'gamma': 1.7735842847375016, 'min_child_weight': 8.403654264180084, 'reg_alpha': 1.648680329509398, 'reg_lambda': 14.352161308646663, 'colsample_bytree': 0.8706689353645797, 'n_estimators': 1644}. Best is trial 4 with value: 0.9986166828053673.\u001b[0m\n",
            "\u001b[32m[I 2022-11-22 01:05:28,880]\u001b[0m Trial 21 finished with value: 0.998478351085904 and parameters: {'eta': 0.4078023287098513, 'max_depth': 32, 'gamma': 0.23400256068470388, 'min_child_weight': 7.434957103306561, 'reg_alpha': 0.2525058336535751, 'reg_lambda': 5.79402511755058, 'colsample_bytree': 0.9679531962112748, 'n_estimators': 1617}. Best is trial 4 with value: 0.9986166828053673.\u001b[0m\n",
            "\u001b[32m[I 2022-11-22 01:12:00,486]\u001b[0m Trial 22 finished with value: 0.998478351085904 and parameters: {'eta': 0.4327899002571972, 'max_depth': 29, 'gamma': 0.08012185608722952, 'min_child_weight': 6.038502738189202, 'reg_alpha': 1.3749583574448077, 'reg_lambda': 7.9345522991531645, 'colsample_bytree': 0.9560701817799948, 'n_estimators': 2257}. Best is trial 4 with value: 0.9986166828053673.\u001b[0m\n",
            "\u001b[32m[I 2022-11-22 01:15:53,451]\u001b[0m Trial 23 finished with value: 0.9983400193664407 and parameters: {'eta': 0.24336377879933177, 'max_depth': 32, 'gamma': 0.8079509576706937, 'min_child_weight': 8.74376885438592, 'reg_alpha': 0.48660714911803893, 'reg_lambda': 2.9127175905715297, 'colsample_bytree': 0.9309370610988589, 'n_estimators': 1255}. Best is trial 4 with value: 0.9986166828053673.\u001b[0m\n",
            "\u001b[32m[I 2022-11-22 01:18:56,297]\u001b[0m Trial 24 finished with value: 0.9980633559275142 and parameters: {'eta': 0.29542165092590583, 'max_depth': 29, 'gamma': 2.3545908335178796, 'min_child_weight': 7.642435801643092, 'reg_alpha': 3.7554092717818004, 'reg_lambda': 6.3725251373022544, 'colsample_bytree': 0.868232546317769, 'n_estimators': 723}. Best is trial 4 with value: 0.9986166828053673.\u001b[0m\n",
            "\u001b[32m[I 2022-11-22 01:26:03,888]\u001b[0m Trial 25 finished with value: 0.9983400193664407 and parameters: {'eta': 0.3232801659624662, 'max_depth': 17, 'gamma': 3.7649294395214583, 'min_child_weight': 8.56508492905333, 'reg_alpha': 2.004381439448972, 'reg_lambda': 13.92970589691873, 'colsample_bytree': 0.8807929686700589, 'n_estimators': 1756}. Best is trial 4 with value: 0.9986166828053673.\u001b[0m\n",
            "\u001b[32m[I 2022-11-22 01:33:07,402]\u001b[0m Trial 26 finished with value: 0.9986166828053673 and parameters: {'eta': 0.3512277132591495, 'max_depth': 8, 'gamma': 1.8169135339484277, 'min_child_weight': 4.608462499623979, 'reg_alpha': 2.309660350634276, 'reg_lambda': 14.95404176809814, 'colsample_bytree': 0.773072386639378, 'n_estimators': 2091}. Best is trial 4 with value: 0.9986166828053673.\u001b[0m\n",
            "\u001b[32m[I 2022-11-22 01:33:09,550]\u001b[0m Trial 27 finished with value: 0.734403098630516 and parameters: {'eta': 0.34398338858933414, 'max_depth': 2, 'gamma': 2.23788333469503, 'min_child_weight': 4.503390016949549, 'reg_alpha': 2.6311657636040713, 'reg_lambda': 12.365430871451977, 'colsample_bytree': 0.7858286020735639, 'n_estimators': 23}. Best is trial 4 with value: 0.9986166828053673.\u001b[0m\n",
            "\u001b[32m[I 2022-11-22 01:38:18,628]\u001b[0m Trial 28 finished with value: 0.9986166828053673 and parameters: {'eta': 0.22382567533294895, 'max_depth': 6, 'gamma': 0.6751283979977041, 'min_child_weight': 2.399481961215414, 'reg_alpha': 4.510728626396672, 'reg_lambda': 14.852653642070942, 'colsample_bytree': 0.7010941922758537, 'n_estimators': 2067}. Best is trial 4 with value: 0.9986166828053673.\u001b[0m\n",
            "\u001b[32m[I 2022-11-22 01:46:46,692]\u001b[0m Trial 29 finished with value: 0.998478351085904 and parameters: {'eta': 0.26629731481671814, 'max_depth': 8, 'gamma': 1.045132741947385, 'min_child_weight': 1.985110621502158, 'reg_alpha': 4.727421200497064, 'reg_lambda': 14.82014832681613, 'colsample_bytree': 0.6958248830213867, 'n_estimators': 2660}. Best is trial 4 with value: 0.9986166828053673.\u001b[0m\n",
            "\u001b[32m[I 2022-11-22 01:55:33,597]\u001b[0m Trial 30 finished with value: 0.998478351085904 and parameters: {'eta': 0.3588223490651116, 'max_depth': 11, 'gamma': 3.9931032771993387, 'min_child_weight': 4.976233981223549, 'reg_alpha': 0.010869819506081124, 'reg_lambda': 8.976891131694043, 'colsample_bytree': 0.7607820867091746, 'n_estimators': 2442}. Best is trial 4 with value: 0.9986166828053673.\u001b[0m\n",
            "\u001b[32m[I 2022-11-22 02:00:16,820]\u001b[0m Trial 31 finished with value: 0.998478351085904 and parameters: {'eta': 0.22286553768691483, 'max_depth': 6, 'gamma': 0.77442207529595, 'min_child_weight': 5.656030977516418, 'reg_alpha': 4.017373183692985, 'reg_lambda': 13.100373436693848, 'colsample_bytree': 0.6988731515188182, 'n_estimators': 2030}. Best is trial 4 with value: 0.9986166828053673.\u001b[0m\n",
            "\u001b[32m[I 2022-11-22 02:03:44,196]\u001b[0m Trial 32 finished with value: 0.998478351085904 and parameters: {'eta': 0.27861750792686096, 'max_depth': 5, 'gamma': 1.553715060470175, 'min_child_weight': 2.5688978735129213, 'reg_alpha': 5.565072860577918, 'reg_lambda': 11.004871536257777, 'colsample_bytree': 0.5381384465396689, 'n_estimators': 2111}. Best is trial 4 with value: 0.9986166828053673.\u001b[0m\n",
            "\u001b[32m[I 2022-11-22 02:07:16,543]\u001b[0m Trial 33 finished with value: 0.998478351085904 and parameters: {'eta': 0.18390978517992057, 'max_depth': 4, 'gamma': 0.76477192266237, 'min_child_weight': 1.4989758664182944, 'reg_alpha': 4.807201320554245, 'reg_lambda': 0.16127684103399353, 'colsample_bytree': 0.670388731932086, 'n_estimators': 2541}. Best is trial 4 with value: 0.9986166828053673.\u001b[0m\n",
            "\u001b[32m[I 2022-11-22 02:15:31,946]\u001b[0m Trial 34 finished with value: 0.998478351085904 and parameters: {'eta': 0.4585504647795472, 'max_depth': 10, 'gamma': 2.07783758469747, 'min_child_weight': 3.509895072392962, 'reg_alpha': 6.059655275138318, 'reg_lambda': 13.158090025164572, 'colsample_bytree': 0.7319183827018808, 'n_estimators': 2178}. Best is trial 4 with value: 0.9986166828053673.\u001b[0m\n",
            "\u001b[32m[I 2022-11-22 02:22:40,754]\u001b[0m Trial 35 finished with value: 0.9983400193664407 and parameters: {'eta': 0.13443196102862118, 'max_depth': 23, 'gamma': 3.082924328344797, 'min_child_weight': 5.264364191527889, 'reg_alpha': 1.0105956301651124, 'reg_lambda': 14.914987714870911, 'colsample_bytree': 0.8436176766151484, 'n_estimators': 1757}. Best is trial 4 with value: 0.9986166828053673.\u001b[0m\n",
            "\u001b[32m[I 2022-11-22 02:29:23,577]\u001b[0m Trial 36 finished with value: 0.998478351085904 and parameters: {'eta': 0.4092267147127909, 'max_depth': 12, 'gamma': 1.2271484470404297, 'min_child_weight': 6.597461387793329, 'reg_alpha': 7.793573286304586, 'reg_lambda': 11.395245935613202, 'colsample_bytree': 0.5525248344464664, 'n_estimators': 2847}. Best is trial 4 with value: 0.9986166828053673.\u001b[0m\n"
          ]
        }
      ],
      "source": [
        "strain_acc_list =[]\n",
        "val_acc_list = []\n",
        "\n",
        "def objective(trial):\n",
        "     eta = trial.suggest_float(\"eta\",1e-5,0.5)\n",
        "     max_depth = trial.suggest_int(\"max_depth\",2,32)\n",
        "     gamma = trial.suggest_float(\"gamma\",1e-2,10)\n",
        "     min_child_weight = trial.suggest_float(\"min_child_weight\",1e-3,10)\n",
        "     reg_alpha = trial.suggest_float(\"reg_alpha\",1e-2,10)\n",
        "     reg_lambda = trial.suggest_float(\"reg_lambda\",1e-2,15)\n",
        "     colsample_bytree = trial.suggest_float(\"colsample_bytree\",0.5,1)\n",
        "     n_estimators = trial.suggest_int(\"n_estimators\",10, 3000)\n",
        "\n",
        "     model = xgb.XGBClassifier(eta=eta,\n",
        "       n_estimators =n_estimators, max_depth = max_depth, gamma = gamma,\n",
        "       reg_alpha = reg_alpha,min_child_weight=min_child_weight, reg_lambda=reg_lambda,\n",
        "       colsample_bytree=colsample_bytree, use_label_encoder=False,\n",
        "       val_metric='mlogloss',seed = 0)\n",
        "     \n",
        "     model.fit(X_train,y_train)\n",
        "     train_predictions = model.predict(X_train)\n",
        "     train_acc = accuracy_score(y_true=y_train, y_pred=train_predictions)\n",
        "     train_acc_list.append(train_acc)\n",
        "     val_predictions = model.predict(X_val)\n",
        "     val_acc = accuracy_score(y_true=y_val, y_pred=val_predictions)\n",
        "     val_acc_list.append(val_acc)\n",
        "     return val_acc\n",
        "    \n",
        "study = optuna.create_study(sampler=optuna.samplers.TPESampler(seed=0),direction = \"maximize\", pruner=optuna.pruners.HyperbandPruner())\n",
        "optimize_speicher(study,note_bookpath=notebook_path, trialanzahl_pro_study=150, anzahl_wiederholungen=20)"
      ]
    },
    {
      "cell_type": "code",
      "source": [
        "model = xgb.XGBClassifier(eta=0.2280806046049521,\n",
        "       n_estimators = 2049, max_depth = 19, gamma = 0.19771010635918787,\n",
        "       reg_alpha = 6.124836269996989,min_child_weight=6.176737335261695, reg_lambda=9.257840613152606,\n",
        "       colsample_bytree=0.9718740392573121, use_label_encoder=False,\n",
        "       val_metric='mlogloss',seed = 0)\n",
        "\n",
        "validate(model, X_val, y_val)"
      ],
      "metadata": {
        "colab": {
          "base_uri": "https://localhost:8080/",
          "height": 573
        },
        "id": "mQNltvYim5ur",
        "outputId": "22c587fb-bceb-4853-fe2f-2d6905ce1910"
      },
      "execution_count": null,
      "outputs": [
        {
          "output_type": "stream",
          "name": "stdout",
          "text": [
            "AUC scores: \n",
            " 0.9997306332544532 \n",
            "\n",
            "Classification report: \n",
            "               precision    recall  f1-score   support\n",
            "\n",
            "           0       1.00      1.00      1.00      3615\n",
            "           1       1.00      1.00      1.00      3614\n",
            "\n",
            "    accuracy                           1.00      7229\n",
            "   macro avg       1.00      1.00      1.00      7229\n",
            "weighted avg       1.00      1.00      1.00      7229\n",
            " \n",
            "\n",
            "Confusion Matrix: \n",
            " [[3602   13]\n",
            " [   8 3606]]\n"
          ]
        },
        {
          "output_type": "display_data",
          "data": {
            "text/plain": [
              "<Figure size 432x288 with 2 Axes>"
            ],
            "image/png": "[encoded data removed]"
          },
          "metadata": {
            "needs_background": "light"
          }
        }
      ]
    },
    {
      "cell_type": "code",
      "source": [
        "overfitting_test(model, X_train, y_train, X_val, y_val)"
      ],
      "metadata": {
        "colab": {
          "base_uri": "https://localhost:8080/"
        },
        "id": "ujrggzVpnxTC",
        "outputId": "93522c96-7308-41b6-d8fb-c383edc13bd7"
      },
      "execution_count": null,
      "outputs": [
        {
          "output_type": "stream",
          "name": "stdout",
          "text": [
            "Train acc:  0.9997233269929102\n",
            "Test acc:  0.9980633559275142\n"
          ]
        }
      ]
    },
    {
      "cell_type": "code",
      "source": [
        "validate(model, X_test, y_test)"
      ],
      "metadata": {
        "colab": {
          "base_uri": "https://localhost:8080/"
        },
        "id": "qEbuVjJtnntf",
        "outputId": "644e1c63-8ec0-4f8a-a4ec-68684f4abdae"
      },
      "execution_count": null,
      "outputs": [
        {
          "output_type": "stream",
          "name": "stdout",
          "text": [
            "AUC scores: \n",
            " 0.9998965532255832 \n",
            "\n",
            "Classification report: \n",
            "               precision    recall  f1-score   support\n",
            "\n",
            "           0       1.00      1.00      1.00      4518\n",
            "           1       1.00      1.00      1.00      4518\n",
            "\n",
            "    accuracy                           1.00      9036\n",
            "   macro avg       1.00      1.00      1.00      9036\n",
            "weighted avg       1.00      1.00      1.00      9036\n",
            " \n",
            "\n",
            "Confusion Matrix: \n",
            " [[4506   12]\n",
            " [   4 4514]]\n"
          ]
        },
        {
          "output_type": "display_data",
          "data": {
            "text/plain": [
              "<Figure size 432x288 with 2 Axes>"
            ],
            "image/png": "[encoded data removed]"
          },
          "metadata": {
            "needs_background": "light"
          }
        }
      ]
    },
    {
      "cell_type": "code",
      "source": [
        "overfitting_test(model, X_train, y_train, X_test, y_test)"
      ],
      "metadata": {
        "colab": {
          "base_uri": "https://localhost:8080/"
        },
        "id": "Pbnu1Iz9viko",
        "outputId": "0a14b609-3e75-4c5d-8611-3556181df1d7"
      },
      "execution_count": null,
      "outputs": [
        {
          "output_type": "stream",
          "name": "stdout",
          "text": [
            "Train acc:  0.9997233269929102\n",
            "Test acc:  0.99867197875166\n"
          ]
        }
      ]
    }
  ],
  "metadata": {
    "accelerator": "GPU",
    "colab": {
      "collapsed_sections": [
        "pL_efop5PU1J"
      ],
      "provenance": [],
      "authorship_tag": "ABX9TyOFrLFvGuKICM9AxrqEXo+n",
      "include_colab_link": true
    },
    "gpuClass": "standard",
    "kernelspec": {
      "display_name": "Python 3",
      "name": "python3"
    },
    "language_info": {
      "name": "python"
    }
  },
  "nbformat": 4,
  "nbformat_minor": 0
}